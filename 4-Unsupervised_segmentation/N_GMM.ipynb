{
 "cells": [
  {
   "cell_type": "code",
   "execution_count": 1,
   "id": "7a3c9b24",
   "metadata": {},
   "outputs": [],
   "source": [
    "import tifffile\n",
    "from shapely.geometry import Polygon\n",
    "import matplotlib.pyplot as plt\n",
    "import pyvista as pv\n",
    "import cv2 as cv\n",
    "import numpy as np\n",
    "import itertools\n",
    "import scipy\n",
    "import time\n",
    "from sklearn.mixture import GaussianMixture as GMM\n",
    "from skimage.segmentation import mark_boundaries\n",
    "from scipy.ndimage import generic_filter\n",
    "from cv2 import fastNlMeansDenoising,fastNlMeansDenoisingMulti, medianBlur"
   ]
  },
  {
   "cell_type": "code",
   "execution_count": 2,
   "id": "8e217079",
   "metadata": {},
   "outputs": [],
   "source": [
    "def padd_to_proper(data, target):\n",
    "    padded_image = np.pad(data[:,53:-54,6:-10], ((0, 128-123), (0,0), (0, 0)), mode='constant')\n",
    "    padded_target = np.pad(target[:,53:-54,6:-10], ((0, 128-123), (0,0), (0, 0)), mode='constant') \n",
    "    return padded_image[:,:,:-21], padded_target[:,:,:-21]"
   ]
  },
  {
   "cell_type": "code",
   "execution_count": 3,
   "id": "5bf2da0b",
   "metadata": {},
   "outputs": [
    {
     "name": "stdout",
     "output_type": "stream",
     "text": [
      "data shape =  (128, 128, 128)\n",
      "target shape =  (128, 128, 128)\n"
     ]
    }
   ],
   "source": [
    "data_path ='data/registered/output/fixed_low_res.tif'\n",
    "data = tifffile.imread(data_path)\n",
    "\n",
    "target_path = 'data/registered/output/registered_mask.tif'\n",
    "target = tifffile.imread(target_path)\n",
    "\n",
    "data , target = padd_to_proper(data,target)\n",
    "\n",
    "print ('data shape = ',data.shape)\n",
    "print ('target shape = ',target.shape)"
   ]
  },
  {
   "cell_type": "code",
   "execution_count": 4,
   "id": "cdc4a2b6",
   "metadata": {},
   "outputs": [],
   "source": [
    "def denoising (vol):\n",
    "    new_vol = np.zeros_like(vol)\n",
    "    for i in range (vol.shape[0]):\n",
    "        new_vol [i] = fastNlMeansDenoising(vol[i],h = 8, templateWindowSize = 3, searchWindowSize = 200)\n",
    "        #new_vol [i] = cv.medianBlur(vol[i],5)\n",
    "        _q=1\n",
    "\n",
    "    return new_vol\n"
   ]
  },
  {
   "cell_type": "code",
   "execution_count": 5,
   "id": "090135f0",
   "metadata": {},
   "outputs": [],
   "source": [
    "def filter_region_of_interest(vol, epsilon,threshold):\n",
    "    mask = np.zeros_like(vol)\n",
    "    for i in range (vol.shape[0]):\n",
    "        \n",
    "        #Threshholding \n",
    "        ret,thresh = cv.threshold(vol[i], threshold, 100, cv.THRESH_BINARY)\n",
    "\n",
    "        # Finding contours for the thresholded image\n",
    "        contours, hierarchy = cv.findContours(thresh, cv.RETR_TREE, cv.CHAIN_APPROX_SIMPLE)\n",
    "        # Concatenate all contours into a single array\n",
    "        all_points = np.concatenate(contours)\n",
    "        #contours = sorted(contours, key=lambda x: cv.contourArea(x), reverse=True)\n",
    "        convexHull = cv.convexHull(all_points)\n",
    "        \n",
    "        cv.drawContours(mask[i], [convexHull], -1, 100, -1 )\n",
    "        \n",
    "        # Finding contours out of the convex hull\n",
    "        contours, hierarchy = cv.findContours(mask[i], cv.RETR_TREE, cv.CHAIN_APPROX_SIMPLE)\n",
    "        contours = sorted(contours, key=lambda x: cv.contourArea(x), reverse=True)\n",
    "\n",
    "        contour = contours[0] #biggest outside contour\n",
    "\n",
    "        #Step_2 removing the Casing\n",
    "        polygon = Polygon(contour[:, 0, :])\n",
    "\n",
    "        # Compute offset\n",
    "        offset_polygon = polygon.buffer(-epsilon)\n",
    "\n",
    "        # Convert offset polygon to numpy array and draw on image\n",
    "        points = np.array(offset_polygon.exterior.coords)\n",
    "        points = np.expand_dims(points.astype(np.int32), axis=1)\n",
    "        \n",
    "        mask[i] = np.zeros_like(mask[i])\n",
    "        cv.drawContours(mask[i], [points], -1, 100, -1 )\n",
    "    \n",
    "    return mask\n",
    "    \n"
   ]
  },
  {
   "cell_type": "code",
   "execution_count": 6,
   "id": "4962315c",
   "metadata": {},
   "outputs": [],
   "source": [
    "def get_neighbours (vol):\n",
    "        #creating a foot print of the desired neighbors\n",
    "    # currently a cross shape\n",
    "    footprint = np.array([[[0,0,0],\n",
    "                          [0,1,0],\n",
    "                          [0,0,0]],\n",
    "                        [[0,1,0],\n",
    "                          [1,1,1],\n",
    "                          [0,1,0]],\n",
    "                        [[0,0,0],\n",
    "                          [0,1,0],\n",
    "                          [0,0,0]]])\n",
    "\n",
    "    i = 0\n",
    "    list_pixels = np.zeros(((vol.shape[0]-2)*(vol.shape[1]-2)*(vol.shape[2]-2),footprint.sum()))\n",
    "    def test_func(values):\n",
    "        nonlocal list_pixels\n",
    "        nonlocal i\n",
    "        if not np.any(values == -10):\n",
    "            list_pixels[i] = values\n",
    "            i += 1\n",
    "\n",
    "        return values.sum()\n",
    "\n",
    "\n",
    "    _gf = generic_filter(vol,test_func,footprint=footprint, cval= -10, mode='constant' )\n",
    "\n",
    "    list_pixels = list_pixels.reshape(((vol.shape[0]-2),(vol.shape[1]-2),(vol.shape[2]-2),footprint.sum()))\n",
    "    \n",
    "    return list_pixels\n",
    "\n"
   ]
  },
  {
   "cell_type": "code",
   "execution_count": 7,
   "id": "056968ac",
   "metadata": {},
   "outputs": [],
   "source": [
    "def get_training_features(vol, neighborhoods):\n",
    "    \n",
    "    #ice_area = filter_region_of_interest(vol, epsilon=20, threshold=5)\n",
    "    ice_area = np.ones_like(vol)\n",
    "    \n",
    "    training_n_elements = len(ice_area[ice_area > 0])\n",
    "    \n",
    "    # resizing the ice area to the size that the neighbours are available (dropping one leayer each dimenssion)\n",
    "\n",
    "    ice_area = ice_area [1:ice_area.shape[0]-1, 1:ice_area.shape[1]-1, 1:ice_area.shape[2]-1 ]\n",
    "\n",
    "    trainig_features = neighborhoods [ice_area > 0]\n",
    "          \n",
    "    return trainig_features"
   ]
  },
  {
   "cell_type": "code",
   "execution_count": 8,
   "id": "c92bdf23",
   "metadata": {},
   "outputs": [],
   "source": [
    "def train_GMM (trainig_features):\n",
    "    \n",
    "    trainig_features = trainig_features.astype('float32')\n",
    "    trainig_features = trainig_features /254\n",
    "    \n",
    "    gmm_model = GMM(n_components=2, random_state=20, covariance_type='tied', init_params='kmeans').fit(trainig_features)\n",
    "    ice_class = gmm_model.means_.round(3).tolist()\n",
    "    ice_class_index = ice_class.index(max(ice_class))\n",
    "    \n",
    "    return gmm_model, ice_class_index\n"
   ]
  },
  {
   "cell_type": "code",
   "execution_count": 9,
   "id": "6d171532",
   "metadata": {},
   "outputs": [],
   "source": [
    "def predict_with_GMM (gmm_model, ice_class_index, neighborhoods):\n",
    "    \n",
    "    neighborhoods = neighborhoods.astype('float32')\n",
    "    neighborhoods = neighborhoods/254\n",
    "    #shape>> (n,n,n,3,3,3)\n",
    "    \n",
    "    segmented = np.zeros((neighborhoods.shape[0],neighborhoods.shape[1],neighborhoods.shape[2]))\n",
    "    \n",
    "    reshaped_ne = neighborhoods.reshape(neighborhoods.shape[0],neighborhoods.shape[1],neighborhoods.shape[2] , -1)\n",
    "    #shape>> (n,n,n,27)\n",
    "    \n",
    "    reshaped_ne = reshaped_ne.reshape(reshaped_ne.shape[0]*reshaped_ne.shape[1]*reshaped_ne.shape[2],reshaped_ne.shape[3])\n",
    "    #shape>> (n,27)\n",
    "    \n",
    "    \n",
    "    probabilities = gmm_model.predict_proba(reshaped_ne)[:, ice_class_index]\n",
    "    predictions = gmm_model.predict(reshaped_ne)\n",
    "    print ('probability = ', probabilities.shape, '    predictions = ', predictions.shape )\n",
    "    \n",
    "    probabilities = probabilities.reshape((neighborhoods.shape[0], neighborhoods.shape[1], neighborhoods.shape[2]))\n",
    "    predictions = predictions.reshape((neighborhoods.shape[0], neighborhoods.shape[1], neighborhoods.shape[2]))\n",
    "\n",
    "    segmented[predictions == ice_class_index] = 100\n",
    "    segmented[predictions != ice_class_index] = 0\n",
    "    segmented = segmented.astype('uint8')\n",
    "    \n",
    "    return segmented, probabilities\n",
    "    \n",
    "    "
   ]
  },
  {
   "cell_type": "code",
   "execution_count": 10,
   "id": "755a24e1",
   "metadata": {},
   "outputs": [
    {
     "name": "stdout",
     "output_type": "stream",
     "text": [
      "probability =  (110880,)     predictions =  (110880,)\n",
      "probability =  (110880,)     predictions =  (110880,)\n",
      "probability =  (110880,)     predictions =  (110880,)\n",
      "probability =  (110880,)     predictions =  (110880,)\n",
      "probability =  (110880,)     predictions =  (110880,)\n",
      "probability =  (110880,)     predictions =  (110880,)\n",
      "probability =  (110880,)     predictions =  (110880,)\n",
      "probability =  (110880,)     predictions =  (110880,)\n",
      "probability =  (110880,)     predictions =  (110880,)\n",
      "probability =  (110880,)     predictions =  (110880,)\n",
      "probability =  (188496,)     predictions =  (188496,)\n",
      "time =  201\n"
     ]
    }
   ],
   "source": [
    "t1 = time.time()\n",
    "batch = 10\n",
    "img = data.astype('uint8')[:122,:,20:110]\n",
    "#starting layer should be more than 1\n",
    "starting_layer = 2\n",
    "ending_layer = img.shape[0]-2\n",
    "#starting_layer = 1000\n",
    "#ending_layer = 1021\n",
    "\n",
    "n_layers = ending_layer - starting_layer\n",
    "cycle = n_layers//batch\n",
    "\n",
    "# creating a numpy array to concatinate the reuslts into it\n",
    "segmented = np.zeros((1,img.shape[1]-2,img.shape[2]-2), dtype = 'uint8')\n",
    "\n",
    "for i in range (cycle):\n",
    "    print(round(i*100//cycle), end='\\r')\n",
    "    \n",
    "    if i == cycle-1: # the last batch will take some extra images\n",
    "        vol = img[starting_layer+(i*batch)-1:ending_layer]\n",
    "    else:\n",
    "        vol = img[starting_layer+(i*batch)-1 : starting_layer+((i+1)*batch)+1 ]\n",
    "\n",
    "    vol = denoising(vol)\n",
    "    neighbours = get_neighbours(vol) #shape>> (n, 3*3*3)\n",
    "    trainig_features = get_training_features(vol, neighbours) #shape>> (n, 3*3*3) pixels only in region of interest\n",
    "    gmm_model, ice_class_index = train_GMM (trainig_features)\n",
    "    prediction, probabilities = predict_with_GMM(gmm_model, ice_class_index, neighbours) #shape>> (n, 1008, 1008)\n",
    "    segmented = np.concatenate((segmented, prediction),0)\n",
    "    \n",
    "t2 = time.time()\n",
    "print ('time = ',round(t2-t1))"
   ]
  },
  {
   "cell_type": "code",
   "execution_count": 49,
   "id": "e1c172d0",
   "metadata": {},
   "outputs": [
    {
     "data": {
      "text/plain": [
       "<matplotlib.image.AxesImage at 0x18c1901a530>"
      ]
     },
     "execution_count": 49,
     "metadata": {},
     "output_type": "execute_result"
    },
    {
     "data": {
      "image/png": "[encoded data removed]",
      "text/plain": [
       "<Figure size 800x1200 with 2 Axes>"
      ]
     },
     "metadata": {},
     "output_type": "display_data"
    }
   ],
   "source": [
    "n=117\n",
    "fig = plt.figure(figsize=(8, 12))\n",
    "gs = fig.add_gridspec(1, 2)\n",
    "ll  = gs.subplots()\n",
    "fig.get_axes()[0].imshow(img[n],'gray')\n",
    "fig.get_axes()[1].imshow(segmented[n],'gray')"
   ]
  },
  {
   "cell_type": "code",
   "execution_count": 50,
   "id": "c2d527b2",
   "metadata": {},
   "outputs": [],
   "source": [
    "tifffile.imwrite('NGMM_.tif',segmented[1:117,:,:])"
   ]
  },
  {
   "cell_type": "code",
   "execution_count": null,
   "id": "2c42002e",
   "metadata": {},
   "outputs": [],
   "source": []
  },
  {
   "cell_type": "code",
   "execution_count": null,
   "id": "af0b40f7",
   "metadata": {},
   "outputs": [],
   "source": []
  }
 ],
 "metadata": {
  "kernelspec": {
   "display_name": "Python 3 (ipykernel)",
   "language": "python",
   "name": "python3"
  },
  "language_info": {
   "codemirror_mode": {
    "name": "ipython",
    "version": 3
   },
   "file_extension": ".py",
   "mimetype": "text/x-python",
   "name": "python",
   "nbconvert_exporter": "python",
   "pygments_lexer": "ipython3",
   "version": "3.10.4"
  }
 },
 "nbformat": 4,
 "nbformat_minor": 5
}
