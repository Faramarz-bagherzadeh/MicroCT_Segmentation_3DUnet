{
 "cells": [
  {
   "cell_type": "code",
   "execution_count": 7,
   "id": "33c83f95",
   "metadata": {},
   "outputs": [],
   "source": [
    "import cv2\n",
    "import torch\n",
    "import torch.nn as nn\n",
    "import torch.optim as optim\n",
    "from torch.utils.data import Dataset, DataLoader\n",
    "from torchvision.transforms import ToTensor, RandomHorizontalFlip, RandomVerticalFlip\n",
    "from sklearn.metrics import f1_score\n",
    "import numpy as np\n",
    "from torchvision import transforms\n",
    "import UNET\n",
    "import UNET2\n",
    "import dataloader\n",
    "import matplotlib.pyplot as plt\n",
    "#from tqdm import tqdm\n",
    "import Predict\n",
    "import tifffile\n",
    "import skimage\n",
    "import kornia\n",
    "torch.manual_seed(17)\n",
    "import random\n",
    "import time\n",
    "from patchify import patchify, unpatchify"
   ]
  },
  {
   "cell_type": "code",
   "execution_count": 8,
   "id": "d584c2f2",
   "metadata": {},
   "outputs": [
    {
     "name": "stdout",
     "output_type": "stream",
     "text": [
      "Number of CUDA devices available: 1\n",
      "Device 0: Quadro RTX 4000\n"
     ]
    }
   ],
   "source": [
    "\n",
    "if torch.cuda.is_available():\n",
    "    device_count = torch.cuda.device_count()\n",
    "    print(f\"Number of CUDA devices available: {device_count}\")\n",
    "    for i in range(device_count):\n",
    "        device = torch.cuda.get_device_name(i)\n",
    "        print(f\"Device {i}: {device}\")\n",
    "else:\n",
    "    print(\"CUDA is not available on this machine.\")"
   ]
  },
  {
   "cell_type": "code",
   "execution_count": 9,
   "id": "65fd691d",
   "metadata": {},
   "outputs": [],
   "source": [
    "\n",
    "train_section = [0.25,1]\n",
    "test_section = [0,1]\n",
    "# while choosing patch size need to consider the test volume size (depth) \n",
    "# in such way to include at least one patch \n",
    "patch_size = 32\n",
    "batch_size = 1\n"
   ]
  },
  {
   "cell_type": "code",
   "execution_count": null,
   "id": "c168d52b",
   "metadata": {},
   "outputs": [],
   "source": []
  },
  {
   "cell_type": "code",
   "execution_count": 10,
   "id": "848119b1",
   "metadata": {},
   "outputs": [],
   "source": [
    "\n",
    "# Set the paths to your data and target files\n",
    "\n",
    "data_path ='data/registered/output/fixed_low_res_5.tif'\n",
    "#data = tifffile.imread(data_path)\n",
    "#print (data.shape)\n",
    "\n",
    "\n",
    "\n",
    "target_path = 'data/registered/output/registered_mask_5.tif'\n",
    "#target = tifffile.imread(target_path)\n",
    "#print (target.shape)\n",
    "\n",
    "\n",
    "#test size is the same path but different part of the file will be selected\n",
    "\n",
    "test_data_path = data_path\n",
    "test_target_path= target_path\n"
   ]
  },
  {
   "cell_type": "code",
   "execution_count": 4,
   "id": "65396a98",
   "metadata": {},
   "outputs": [
    {
     "name": "stdout",
     "output_type": "stream",
     "text": [
      "data shape =  (128, 256, 128)\n",
      "data max =  1.0\n",
      "target shape =  (128, 256, 128)\n",
      "target max =  1\n",
      "data shape =  (128, 256, 128)\n",
      "data max =  1.0\n",
      "target shape =  (128, 256, 128)\n",
      "target max =  1\n"
     ]
    }
   ],
   "source": [
    "# Create instances of your training and test datasets and data loaders\n",
    "train_dataset = dataloader.CustomDataset(data_path, target_path,\n",
    "                                         section=train_section,\n",
    "                                         patch_size=patch_size ,\n",
    "                                         transform=1,step = 2)\n",
    "\n",
    "\n",
    "test_dataset = dataloader.CustomDataset(test_data_path,\n",
    "                                        test_target_path,\n",
    "                                        section=test_section,\n",
    "                                        patch_size=patch_size ,\n",
    "                                        transform=None,\n",
    "                                       step=patch_size)\n",
    "\n",
    "train_data_loader = DataLoader(train_dataset,\n",
    "                               batch_size=batch_size,\n",
    "                               shuffle=True)\n",
    "\n",
    "test_data_loader = DataLoader(test_dataset,\n",
    "                              batch_size=batch_size,\n",
    "                              shuffle=False)\n"
   ]
  },
  {
   "cell_type": "code",
   "execution_count": 26,
   "id": "9f3357da",
   "metadata": {},
   "outputs": [],
   "source": [
    "def check_data_set_2 (dataset):\n",
    "    fig, axs = plt.subplots(1, 3, figsize=(6, 6))\n",
    "\n",
    "    for img, gt in dataset:\n",
    "        print ('Shape of input data',img.shape)\n",
    "        axs[0].imshow(img[0,0,0,:,:],'gray')\n",
    "        axs[1].imshow(gt[0,0,0,:,:],'gray')\n",
    "        color_image = img[0,0,0,:,:].numpy()\n",
    "        color_image = color_image*255\n",
    "        color_image = cv2.cvtColor(color_image.astype('uint8'), cv2.COLOR_GRAY2BGR)\n",
    "        axs[2].imshow(skimage.segmentation.mark_boundaries(color_image,gt[0,0,0,:,:].numpy().astype('uint8')),'gray')\n",
    "        \n",
    "        #print ('img mean = ', img[0,0,0,:,:].mean())\n",
    "        #print ('gt mean = ', gt[0,0,0,:,:].mean())\n",
    "        break\n",
    "    return img , gt"
   ]
  },
  {
   "cell_type": "code",
   "execution_count": 39,
   "id": "ba87499f",
   "metadata": {},
   "outputs": [
    {
     "name": "stdout",
     "output_type": "stream",
     "text": [
      "Shape of input data torch.Size([1, 1, 32, 32, 32])\n",
      "Lnegth of traning data 182721\n"
     ]
    },
    {
     "data": {
      "image/png": "[encoded data removed]",
      "text/plain": [
       "<Figure size 600x600 with 3 Axes>"
      ]
     },
     "metadata": {},
     "output_type": "display_data"
    }
   ],
   "source": [
    "# run this cell multiple times and check the alignment of the input image and ground truth\n",
    "img , gt = check_data_set_2(train_data_loader)\n",
    "print ('Lnegth of traning data',len (train_data_loader))"
   ]
  },
  {
   "cell_type": "code",
   "execution_count": 40,
   "id": "7be96f80",
   "metadata": {},
   "outputs": [],
   "source": [
    "# Training function\n",
    "def train(model, train_data_loader, test_data_loader, num_epochs, learning_rate):\n",
    "    #checking differetn criterions \n",
    "    #criterion = nn.BCEWithLogitsLoss()\n",
    "    #criterion = nn.L1Loss()\n",
    "    #criterion = nn.CrossEntropyLoss()\n",
    "    #criterion = nn.BCELoss()\n",
    "    optimizer = optim.Adam(model.parameters(), lr=learning_rate)\n",
    "    scheduler = optim.lr_scheduler.StepLR(optimizer, step_size=50, gamma=0.1)\n",
    "    device = torch.device(\"cuda\" if torch.cuda.is_available() else \"cpu\")\n",
    "    print (device)\n",
    "    model.to(device)\n",
    "    \n",
    "    for epoch in range(num_epochs):\n",
    "        t1 = time.time()\n",
    "        model.train()\n",
    "        train_loss = 0.0\n",
    "        counter = 1\n",
    "        for data, target in train_data_loader:\n",
    "            print ('input shape {}'.format(data.shape),'Training progress for epoch {}'.format(epoch+1),\n",
    "                   counter*100 //len(train_data_loader),'%', end = '\\r')\n",
    "            counter +=1\n",
    "\n",
    "            data, target = data.to(device), target.to(device)\n",
    "\n",
    "            optimizer.zero_grad()\n",
    "            output = model(data)\n",
    "            #If using a cirterion please uncomment this line and comment out the Kornia loss\n",
    "            #loss = criterion(output, target)\n",
    "            \n",
    "            kwargs = {\"alpha\": 0.5, \"gamma\": 1.0, \"reduction\": 'mean'}\n",
    "            loss = kornia.losses.binary_focal_loss_with_logits(output, target, **kwargs)\n",
    "            loss.backward()\n",
    "            optimizer.step()\n",
    "            \n",
    "            train_loss += loss.item()\n",
    "            \n",
    "        scheduler.step()\n",
    "        t2 = time.time()\n",
    "        print(f\"Epoch [{epoch + 1}/{num_epochs}], Training Loss: {train_loss / len(train_data_loader):.4f}, Time (min) = {round((t2-t1)/60)}  \")\n",
    "\n",
    "        #Calculate F1-score on test set\n",
    "        model.eval()\n",
    "        with torch.no_grad():\n",
    "            f1= []\n",
    "            t_counter = 1\n",
    "            for data, target in test_data_loader:\n",
    "                if data.max()>1:\n",
    "                    print ('Input data has issue !!!!')\n",
    "                data, target = data.to(device), target.to(device)\n",
    "                output = model(data)\n",
    "\n",
    "                output = (output>0.6).float()\n",
    "                output = output.cpu().numpy().flatten()\n",
    "                target= target.cpu().numpy().flatten()\n",
    "                f1.append(f1_score(target, output))\n",
    "                t_counter +=1\n",
    "                print ('testing progress for epoch {}%'.format(epoch+1),t_counter*100 //len(test_data_loader), end = '\\r')\n",
    "            print(f\"F1-score: {np.array(f1).mean()}\")"
   ]
  },
  {
   "cell_type": "code",
   "execution_count": 41,
   "id": "a269f3ce",
   "metadata": {
    "scrolled": true
   },
   "outputs": [
    {
     "name": "stdout",
     "output_type": "stream",
     "text": [
      "cuda\n",
      "Epoch [1/3], Training Loss: 0.0145, Time (min) = 119  ogress for epoch 1 100 %\n",
      "F1-score: 0.9331109163134439% 100\n",
      "Epoch [2/3], Training Loss: 0.0060, Time (min) = 119  ogress for epoch 2 100 %%\n",
      "F1-score: 0.9411420715919167% 100\n",
      "input shape torch.Size([1, 1, 32, 32, 32]) Training progress for epoch 3 11 %\r"
     ]
    },
    {
     "ename": "KeyboardInterrupt",
     "evalue": "",
     "output_type": "error",
     "traceback": [
      "\u001b[1;31m---------------------------------------------------------------------------\u001b[0m",
      "\u001b[1;31mKeyboardInterrupt\u001b[0m                         Traceback (most recent call last)",
      "Cell \u001b[1;32mIn[41], line 12\u001b[0m\n\u001b[0;32m     10\u001b[0m warnings\u001b[38;5;241m.\u001b[39mfilterwarnings(\u001b[38;5;124m\"\u001b[39m\u001b[38;5;124mignore\u001b[39m\u001b[38;5;124m\"\u001b[39m)\n\u001b[0;32m     11\u001b[0m \u001b[38;5;66;03m# Train the model\u001b[39;00m\n\u001b[1;32m---> 12\u001b[0m \u001b[43mtrain\u001b[49m\u001b[43m(\u001b[49m\u001b[43mmodel\u001b[49m\u001b[43m,\u001b[49m\u001b[43m \u001b[49m\u001b[43mtrain_data_loader\u001b[49m\u001b[43m,\u001b[49m\u001b[43m \u001b[49m\u001b[43mtest_data_loader\u001b[49m\u001b[43m,\u001b[49m\u001b[43m \u001b[49m\u001b[43mnum_epochs\u001b[49m\u001b[43m,\u001b[49m\u001b[43m \u001b[49m\u001b[43mlearning_rate\u001b[49m\u001b[43m)\u001b[49m\n",
      "Cell \u001b[1;32mIn[40], line 33\u001b[0m, in \u001b[0;36mtrain\u001b[1;34m(model, train_data_loader, test_data_loader, num_epochs, learning_rate)\u001b[0m\n\u001b[0;32m     31\u001b[0m kwargs \u001b[38;5;241m=\u001b[39m {\u001b[38;5;124m\"\u001b[39m\u001b[38;5;124malpha\u001b[39m\u001b[38;5;124m\"\u001b[39m: \u001b[38;5;241m0.5\u001b[39m, \u001b[38;5;124m\"\u001b[39m\u001b[38;5;124mgamma\u001b[39m\u001b[38;5;124m\"\u001b[39m: \u001b[38;5;241m1.0\u001b[39m, \u001b[38;5;124m\"\u001b[39m\u001b[38;5;124mreduction\u001b[39m\u001b[38;5;124m\"\u001b[39m: \u001b[38;5;124m'\u001b[39m\u001b[38;5;124mmean\u001b[39m\u001b[38;5;124m'\u001b[39m}\n\u001b[0;32m     32\u001b[0m loss \u001b[38;5;241m=\u001b[39m kornia\u001b[38;5;241m.\u001b[39mlosses\u001b[38;5;241m.\u001b[39mbinary_focal_loss_with_logits(output, target, \u001b[38;5;241m*\u001b[39m\u001b[38;5;241m*\u001b[39mkwargs)\n\u001b[1;32m---> 33\u001b[0m \u001b[43mloss\u001b[49m\u001b[38;5;241;43m.\u001b[39;49m\u001b[43mbackward\u001b[49m\u001b[43m(\u001b[49m\u001b[43m)\u001b[49m\n\u001b[0;32m     34\u001b[0m optimizer\u001b[38;5;241m.\u001b[39mstep()\n\u001b[0;32m     36\u001b[0m train_loss \u001b[38;5;241m+\u001b[39m\u001b[38;5;241m=\u001b[39m loss\u001b[38;5;241m.\u001b[39mitem()\n",
      "File \u001b[1;32m~\\Anaconda3\\envs\\FARAMARZ\\lib\\site-packages\\torch\\_tensor.py:487\u001b[0m, in \u001b[0;36mTensor.backward\u001b[1;34m(self, gradient, retain_graph, create_graph, inputs)\u001b[0m\n\u001b[0;32m    477\u001b[0m \u001b[38;5;28;01mif\u001b[39;00m has_torch_function_unary(\u001b[38;5;28mself\u001b[39m):\n\u001b[0;32m    478\u001b[0m     \u001b[38;5;28;01mreturn\u001b[39;00m handle_torch_function(\n\u001b[0;32m    479\u001b[0m         Tensor\u001b[38;5;241m.\u001b[39mbackward,\n\u001b[0;32m    480\u001b[0m         (\u001b[38;5;28mself\u001b[39m,),\n\u001b[1;32m   (...)\u001b[0m\n\u001b[0;32m    485\u001b[0m         inputs\u001b[38;5;241m=\u001b[39minputs,\n\u001b[0;32m    486\u001b[0m     )\n\u001b[1;32m--> 487\u001b[0m \u001b[43mtorch\u001b[49m\u001b[38;5;241;43m.\u001b[39;49m\u001b[43mautograd\u001b[49m\u001b[38;5;241;43m.\u001b[39;49m\u001b[43mbackward\u001b[49m\u001b[43m(\u001b[49m\n\u001b[0;32m    488\u001b[0m \u001b[43m    \u001b[49m\u001b[38;5;28;43mself\u001b[39;49m\u001b[43m,\u001b[49m\u001b[43m \u001b[49m\u001b[43mgradient\u001b[49m\u001b[43m,\u001b[49m\u001b[43m \u001b[49m\u001b[43mretain_graph\u001b[49m\u001b[43m,\u001b[49m\u001b[43m \u001b[49m\u001b[43mcreate_graph\u001b[49m\u001b[43m,\u001b[49m\u001b[43m \u001b[49m\u001b[43minputs\u001b[49m\u001b[38;5;241;43m=\u001b[39;49m\u001b[43minputs\u001b[49m\n\u001b[0;32m    489\u001b[0m \u001b[43m\u001b[49m\u001b[43m)\u001b[49m\n",
      "File \u001b[1;32m~\\Anaconda3\\envs\\FARAMARZ\\lib\\site-packages\\torch\\autograd\\__init__.py:197\u001b[0m, in \u001b[0;36mbackward\u001b[1;34m(tensors, grad_tensors, retain_graph, create_graph, grad_variables, inputs)\u001b[0m\n\u001b[0;32m    192\u001b[0m     retain_graph \u001b[38;5;241m=\u001b[39m create_graph\n\u001b[0;32m    194\u001b[0m \u001b[38;5;66;03m# The reason we repeat same the comment below is that\u001b[39;00m\n\u001b[0;32m    195\u001b[0m \u001b[38;5;66;03m# some Python versions print out the first line of a multi-line function\u001b[39;00m\n\u001b[0;32m    196\u001b[0m \u001b[38;5;66;03m# calls in the traceback and some print out the last line\u001b[39;00m\n\u001b[1;32m--> 197\u001b[0m \u001b[43mVariable\u001b[49m\u001b[38;5;241;43m.\u001b[39;49m\u001b[43m_execution_engine\u001b[49m\u001b[38;5;241;43m.\u001b[39;49m\u001b[43mrun_backward\u001b[49m\u001b[43m(\u001b[49m\u001b[43m  \u001b[49m\u001b[38;5;66;43;03m# Calls into the C++ engine to run the backward pass\u001b[39;49;00m\n\u001b[0;32m    198\u001b[0m \u001b[43m    \u001b[49m\u001b[43mtensors\u001b[49m\u001b[43m,\u001b[49m\u001b[43m \u001b[49m\u001b[43mgrad_tensors_\u001b[49m\u001b[43m,\u001b[49m\u001b[43m \u001b[49m\u001b[43mretain_graph\u001b[49m\u001b[43m,\u001b[49m\u001b[43m \u001b[49m\u001b[43mcreate_graph\u001b[49m\u001b[43m,\u001b[49m\u001b[43m \u001b[49m\u001b[43minputs\u001b[49m\u001b[43m,\u001b[49m\n\u001b[0;32m    199\u001b[0m \u001b[43m    \u001b[49m\u001b[43mallow_unreachable\u001b[49m\u001b[38;5;241;43m=\u001b[39;49m\u001b[38;5;28;43;01mTrue\u001b[39;49;00m\u001b[43m,\u001b[49m\u001b[43m \u001b[49m\u001b[43maccumulate_grad\u001b[49m\u001b[38;5;241;43m=\u001b[39;49m\u001b[38;5;28;43;01mTrue\u001b[39;49;00m\u001b[43m)\u001b[49m\n",
      "\u001b[1;31mKeyboardInterrupt\u001b[0m: "
     ]
    }
   ],
   "source": [
    "# Create an instance of the model\n",
    "# two final models with different layers for different patch size were developed\n",
    "model = UNET.UNet(in_channels=1, out_channels=1)\n",
    "#model = UNET2.UNet(in_channels=1, out_channels=1)\n",
    "\n",
    "# Set the hyperparameters\n",
    "num_epochs = 3\n",
    "learning_rate = 0.00001\n",
    "import warnings\n",
    "warnings.filterwarnings(\"ignore\")\n",
    "# Train the model\n",
    "train(model, train_data_loader, test_data_loader, num_epochs, learning_rate)"
   ]
  },
  {
   "cell_type": "code",
   "execution_count": 47,
   "id": "d54950ff",
   "metadata": {},
   "outputs": [
    {
     "name": "stdout",
     "output_type": "stream",
     "text": [
      "torch.Size([1, 1, 32, 32, 32])\n"
     ]
    },
    {
     "data": {
      "image/png": "[encoded data removed]",
      "text/plain": [
       "<Figure size 800x600 with 3 Axes>"
      ]
     },
     "metadata": {},
     "output_type": "display_data"
    }
   ],
   "source": [
    "for data, target in train_data_loader:\n",
    "    print (data.shape)\n",
    "    device = torch.device(\"cuda\" if torch.cuda.is_available() else \"cpu\")\n",
    "\n",
    "    data = data.to(device)\n",
    "    prediction = model(data)\n",
    "    data = data.cpu()\n",
    "    prediction = prediction.cpu()\n",
    "                #predicted = output.argmax(dim=1)\n",
    "\n",
    "    prediction = (prediction>0.5).float()\n",
    "    fig, axes = plt.subplots(1, 3, figsize=(8, 6))\n",
    "    axes[0].imshow(prediction[0,0,7,:,:], cmap='gray')\n",
    "    axes[0].axis('off')\n",
    "    axes[0].set_title('Prediction')\n",
    "    \n",
    "    axes[1].imshow(target[0,0,7,:,:], cmap='gray')\n",
    "    axes[1].axis('off')\n",
    "    axes[1].set_title('Target')\n",
    "    \n",
    "    axes[2].imshow(data[0,0,7,:,:], cmap='gray')\n",
    "    axes[2].axis('off')\n",
    "    axes[2].set_title('raw image')\n",
    "\n",
    "    break\n",
    "\n"
   ]
  },
  {
   "cell_type": "code",
   "execution_count": null,
   "id": "6607e2ee",
   "metadata": {},
   "outputs": [],
   "source": [
    "image = tifffile.imread(data_path)\n",
    "target = tifffile.imread(target_path)\n",
    "print ('image shape = ',image.shape)"
   ]
  },
  {
   "cell_type": "code",
   "execution_count": null,
   "id": "f3bdce5a",
   "metadata": {},
   "outputs": [],
   "source": [
    "plt.imshow(image[10],'gray')"
   ]
  },
  {
   "cell_type": "code",
   "execution_count": null,
   "id": "85d170c6",
   "metadata": {},
   "outputs": [],
   "source": [
    "def padd_to_proper(data):\n",
    "    padded_image = np.pad(data[2:-3,:,19:-19], ((0,0), (20,20), (0, 0)), mode='constant') \n",
    "    print ('shape of paded is ', padded_image.shape)\n",
    "    return padded_image[:,:,:]"
   ]
  },
  {
   "cell_type": "code",
   "execution_count": null,
   "id": "1444b0ae",
   "metadata": {},
   "outputs": [],
   "source": []
  },
  {
   "cell_type": "code",
   "execution_count": null,
   "id": "c196cabd",
   "metadata": {},
   "outputs": [],
   "source": [
    "all_patches = np.zeros((1, patch_size, patch_size, patch_size))\n",
    "target_patches = np.zeros((1, patch_size, patch_size, patch_size))\n",
    "model.eval()\n",
    "with torch.no_grad():\n",
    "    for data, target in test_data_loader:\n",
    "        data, target = data.to(device), target.to(device)\n",
    "        output = model(data)\n",
    "\n",
    "        output = (output>0.5).float()\n",
    "        output = output.cpu().numpy()[0]\n",
    "        target = target.cpu().numpy()[0]\n",
    "        all_patches = np.concatenate((all_patches,output), axis=0)\n",
    "        target_patches = np.concatenate((target_patches,target), axis=0)\n",
    "    all_patches = all_patches[1:,:,:,:]\n",
    "    target_patches = target_patches[1:,:,:,:]\n",
    "    print ('before reshape',all_patches.shape)\n",
    "    #print (test_dataset.patchy_shape)\n",
    "    all_patches=all_patches.reshape(test_dataset.patchy_shape)\n",
    "    target_patches = target_patches.reshape(test_dataset.patchy_shape)\n",
    "    output = unpatchify(all_patches, test_dataset.original_shape)\n",
    "    target = unpatchify(target_patches, test_dataset.original_shape)\n",
    "    print ('final output shape',output.shape)\n",
    "    print ('final target shape',target.shape)"
   ]
  },
  {
   "cell_type": "code",
   "execution_count": null,
   "id": "f6b33c0e",
   "metadata": {},
   "outputs": [],
   "source": [
    "#visual check\n",
    "n=40\n",
    "color_image = cv2.cvtColor((target[n]*255).astype('uint8'), cv2.COLOR_GRAY2BGR)\n",
    "plt.imshow(skimage.segmentation.mark_boundaries(color_image*100,output[n].astype('uint8')),'gray')"
   ]
  },
  {
   "cell_type": "code",
   "execution_count": null,
   "id": "254a3a7d",
   "metadata": {},
   "outputs": [],
   "source": [
    "tifffile.imwrite('3D_Unet_32_32_32_4.tif',output)"
   ]
  },
  {
   "cell_type": "code",
   "execution_count": null,
   "id": "f5549bbf",
   "metadata": {},
   "outputs": [],
   "source": [
    "#save model\n",
    "def save_checkpoint(state, filename=\"my_checkpoint.pth.tar\"):\n",
    "    print(\"=> Saving checkpoint\")\n",
    "    torch.save(state, filename)\n",
    "\n",
    "checkpoint = {\"state_dict\": model.state_dict()}\n",
    "save_checkpoint(checkpoint)"
   ]
  },
  {
   "cell_type": "code",
   "execution_count": 18,
   "id": "428919df",
   "metadata": {},
   "outputs": [
    {
     "name": "stdout",
     "output_type": "stream",
     "text": [
      "=> Loading checkpoint\n"
     ]
    }
   ],
   "source": [
    "def load_checkpoint(checkpoint, model):\n",
    "    print(\"=> Loading checkpoint\")\n",
    "    model.load_state_dict(checkpoint[\"state_dict\"])\n",
    "\n",
    "load_checkpoint(torch.load(\"my_checkpoint.pth.tar\"), model)"
   ]
  },
  {
   "cell_type": "code",
   "execution_count": 19,
   "id": "4bed486d",
   "metadata": {},
   "outputs": [],
   "source": []
  },
  {
   "cell_type": "code",
   "execution_count": 20,
   "id": "f99b6f2e",
   "metadata": {},
   "outputs": [],
   "source": [
    "def padd_to_proper_2(data):\n",
    "    padded_image = np.pad(data[:,53:-54,16:], ((0, 128-123), (0,0), (0, 0)), mode='constant') \n",
    "    return padded_image[:,:,:-21]"
   ]
  },
  {
   "cell_type": "code",
   "execution_count": 21,
   "id": "64f6a5f8",
   "metadata": {},
   "outputs": [],
   "source": [
    "def contrast_stretching(input_image):\n",
    "    # Contrast stretching + Normalizing 0-255\n",
    "    p2, p98 = np.percentile(input_image, (2, 98))\n",
    "    stretched_image = skimage.exposure.rescale_intensity(input_image, in_range=(p2, p98))\n",
    "\n",
    "    \n",
    "    return stretched_image\n",
    "\n",
    "def padd_to_proper(data):\n",
    "    padded_image = np.pad(data[:,:,16:], ((0, 128-123), (11,10), (0, 0)), mode='constant') \n",
    "    return padded_image[:,:,:-21]\n",
    "    \n",
    "\n",
    "def predict_for_one_patch(img, model):\n",
    "    \n",
    "    img = contrast_stretching(img)\n",
    "    img = torch.from_numpy(img).float()\n",
    "    device = torch.device(\"cuda\" if torch.cuda.is_available() else \"cpu\")\n",
    "    img = img.to(device)\n",
    "    #print ('img max before going to model',img.max())\n",
    "    output = model(img)\n",
    "    output = output.cpu()\n",
    "    output = output.detach().numpy()\n",
    "    output [output >= 0.5] = 1\n",
    "    output [output < 0.5] = 0\n",
    "    #output = output[:,0,:,:,:]\n",
    "    return output\n",
    "\n",
    "def prediction (img, patch_size_, model):\n",
    "    \n",
    "    reshaped_img = padd_to_proper(img)\n",
    "    img = reshaped_img\n",
    "    \n",
    "    original_img_shape = img.shape\n",
    "    \n",
    "    #image into patches\n",
    "    img = patchify(img,(patch_size_, patch_size_, patch_size_) ,  step=patch_size_ )\n",
    "    \n",
    "    # image shape after patching\n",
    "    original_patches_shape = img.shape\n",
    "    \n",
    "    \n",
    "    img = img.reshape(img.shape[0]*img.shape[1]*img.shape[2],1,\n",
    "                         patch_size_,patch_size_,patch_size_ )\n",
    "    \n",
    "    output = np.zeros_like(img)\n",
    "    for i in range (img.shape[0]):\n",
    "        output[i]= predict_for_one_patch(img[i:i+1], model)\n",
    "\n",
    "\n",
    "    \n",
    "    output = output[:,0,:,:,:]\n",
    "    output= output.reshape(original_patches_shape)\n",
    "    \n",
    "    output = unpatchify(output, original_img_shape)\n",
    "    \n",
    "    return reshaped_img, output\n"
   ]
  },
  {
   "cell_type": "code",
   "execution_count": 22,
   "id": "298066dc",
   "metadata": {},
   "outputs": [],
   "source": [
    "input_data = tifffile.imread(data_path)\n",
    "#input_data , output = prediction(input_data,patch_size,model=model)\n",
    "gt = padd_to_proper(tifffile.imread(target_path))"
   ]
  },
  {
   "cell_type": "code",
   "execution_count": 23,
   "id": "c8910a5f",
   "metadata": {},
   "outputs": [
    {
     "name": "stdout",
     "output_type": "stream",
     "text": [
      "test section is layers  [  0 123]\n"
     ]
    },
    {
     "data": {
      "image/png": "[encoded data removed]",
      "text/plain": [
       "<Figure size 640x480 with 1 Axes>"
      ]
     },
     "metadata": {},
     "output_type": "display_data"
    }
   ],
   "source": [
    "plt.imshow(output[20],'gray')\n",
    "print ('test section is layers ', input_data.shape[0]*np.array(test_section))"
   ]
  },
  {
   "cell_type": "code",
   "execution_count": 24,
   "id": "91f8615a",
   "metadata": {},
   "outputs": [
    {
     "ename": "IndexError",
     "evalue": "boolean index did not match indexed array along dimension 0; dimension is 256 but corresponding boolean dimension is 128",
     "output_type": "error",
     "traceback": [
      "\u001b[1;31m---------------------------------------------------------------------------\u001b[0m",
      "\u001b[1;31mIndexError\u001b[0m                                Traceback (most recent call last)",
      "Cell \u001b[1;32mIn[24], line 4\u001b[0m\n\u001b[0;32m      2\u001b[0m n\u001b[38;5;241m=\u001b[39m\u001b[38;5;241m10\u001b[39m\n\u001b[0;32m      3\u001b[0m color_image \u001b[38;5;241m=\u001b[39m cv2\u001b[38;5;241m.\u001b[39mcvtColor(gt[n]\u001b[38;5;241m.\u001b[39mastype(\u001b[38;5;124m'\u001b[39m\u001b[38;5;124muint8\u001b[39m\u001b[38;5;124m'\u001b[39m), cv2\u001b[38;5;241m.\u001b[39mCOLOR_GRAY2BGR)\n\u001b[1;32m----> 4\u001b[0m plt\u001b[38;5;241m.\u001b[39mimshow(\u001b[43mskimage\u001b[49m\u001b[38;5;241;43m.\u001b[39;49m\u001b[43msegmentation\u001b[49m\u001b[38;5;241;43m.\u001b[39;49m\u001b[43mmark_boundaries\u001b[49m\u001b[43m(\u001b[49m\u001b[43mcolor_image\u001b[49m\u001b[38;5;241;43m*\u001b[39;49m\u001b[38;5;241;43m100\u001b[39;49m\u001b[43m,\u001b[49m\u001b[43moutput\u001b[49m\u001b[43m[\u001b[49m\u001b[43mn\u001b[49m\u001b[43m]\u001b[49m\u001b[38;5;241;43m.\u001b[39;49m\u001b[43mastype\u001b[49m\u001b[43m(\u001b[49m\u001b[38;5;124;43m'\u001b[39;49m\u001b[38;5;124;43muint8\u001b[39;49m\u001b[38;5;124;43m'\u001b[39;49m\u001b[43m)\u001b[49m\u001b[43m)\u001b[49m,\u001b[38;5;124m'\u001b[39m\u001b[38;5;124mgray\u001b[39m\u001b[38;5;124m'\u001b[39m)\n",
      "File \u001b[1;32m~\\Anaconda3\\envs\\FARAMARZ\\lib\\site-packages\\skimage\\segmentation\\boundaries.py:238\u001b[0m, in \u001b[0;36mmark_boundaries\u001b[1;34m(image, label_img, color, outline_color, mode, background_label)\u001b[0m\n\u001b[0;32m    236\u001b[0m     outlines \u001b[38;5;241m=\u001b[39m dilation(boundaries, square(\u001b[38;5;241m3\u001b[39m))\n\u001b[0;32m    237\u001b[0m     marked[outlines] \u001b[38;5;241m=\u001b[39m outline_color\n\u001b[1;32m--> 238\u001b[0m marked[boundaries] \u001b[38;5;241m=\u001b[39m color\n\u001b[0;32m    239\u001b[0m \u001b[38;5;28;01mreturn\u001b[39;00m marked\n",
      "\u001b[1;31mIndexError\u001b[0m: boolean index did not match indexed array along dimension 0; dimension is 256 but corresponding boolean dimension is 128"
     ]
    }
   ],
   "source": [
    "#visual check\n",
    "n=10\n",
    "color_image = cv2.cvtColor(gt[n].astype('uint8'), cv2.COLOR_GRAY2BGR)\n",
    "plt.imshow(skimage.segmentation.mark_boundaries(color_image*100,output[n].astype('uint8')),'gray')"
   ]
  },
  {
   "cell_type": "code",
   "execution_count": null,
   "id": "8cd10cb0",
   "metadata": {},
   "outputs": [],
   "source": [
    "#visual check\n",
    "color_image = cv2.cvtColor((input_data[:20][n]*255).astype('uint8'), cv2.COLOR_GRAY2BGR)\n",
    "plt.imshow(skimage.segmentation.mark_boundaries(color_image,output[n].astype('uint8')),'gray')"
   ]
  },
  {
   "cell_type": "code",
   "execution_count": null,
   "id": "f52abfaf",
   "metadata": {},
   "outputs": [],
   "source": [
    "color_image = cv2.cvtColor(input_data[n].astype('uint8'), cv2.COLOR_GRAY2BGR)\n",
    "plt.imshow(skimage.segmentation.mark_boundaries(color_image,(gt[n]).astype('uint8')),'gray')\n",
    "n=0"
   ]
  },
  {
   "cell_type": "code",
   "execution_count": null,
   "id": "4361674d",
   "metadata": {},
   "outputs": [],
   "source": []
  }
 ],
 "metadata": {
  "kernelspec": {
   "display_name": "Python 3 (ipykernel)",
   "language": "python",
   "name": "python3"
  },
  "language_info": {
   "codemirror_mode": {
    "name": "ipython",
    "version": 3
   },
   "file_extension": ".py",
   "mimetype": "text/x-python",
   "name": "python",
   "nbconvert_exporter": "python",
   "pygments_lexer": "ipython3",
   "version": "3.10.4"
  }
 },
 "nbformat": 4,
 "nbformat_minor": 5
}
