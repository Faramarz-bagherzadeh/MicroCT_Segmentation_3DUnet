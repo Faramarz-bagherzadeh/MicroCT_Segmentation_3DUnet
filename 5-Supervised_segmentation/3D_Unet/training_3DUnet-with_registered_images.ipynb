{
 "cells": [
  {
   "cell_type": "code",
   "execution_count": 1,
   "id": "33c83f95",
   "metadata": {},
   "outputs": [],
   "source": [
    "import cv2\n",
    "import torch\n",
    "import torch.nn as nn\n",
    "import torch.optim as optim\n",
    "from torch.utils.data import Dataset, DataLoader\n",
    "from torchvision.transforms import ToTensor, RandomHorizontalFlip, RandomVerticalFlip\n",
    "from sklearn.metrics import f1_score\n",
    "import numpy as np\n",
    "from torchvision import transforms\n",
    "import UNET\n",
    "import UNET2\n",
    "import dataloader\n",
    "import matplotlib.pyplot as plt\n",
    "#from tqdm import tqdm\n",
    "import Predict\n",
    "import tifffile\n",
    "import skimage\n",
    "import kornia\n",
    "torch.manual_seed(17)\n",
    "import random\n",
    "import time\n",
    "from patchify import patchify, unpatchify"
   ]
  },
  {
   "cell_type": "code",
   "execution_count": 2,
   "id": "65fd691d",
   "metadata": {},
   "outputs": [],
   "source": [
    "\n",
    "train_section = [0.25,1]\n",
    "test_section = [0,1]\n",
    "# while choosing patch size need to consider the test volume size (depth) \n",
    "# in such way to include at least one patch \n",
    "patch_size = 32\n",
    "batch_size = 1\n"
   ]
  },
  {
   "cell_type": "code",
   "execution_count": 3,
   "id": "848119b1",
   "metadata": {},
   "outputs": [
    {
     "name": "stdout",
     "output_type": "stream",
     "text": [
      "(123, 235, 165)\n",
      "(123, 235, 165)\n"
     ]
    }
   ],
   "source": [
    "\n",
    "# Set the paths to your data and target files\n",
    "\n",
    "#data_path = 'data/Downsized_corespoinding_to_60micron_.tif'\n",
    "#data_path = 'data/padded_noise_added_Downsized_corespoinding_to_60micron_.tif'\n",
    "#data_path = 'data/padded_border_cropped_high_res_downsized.tif'\n",
    "data_path ='data/registered/output/fixed_low_res.tif'\n",
    "data = tifffile.imread(data_path)\n",
    "print (data.shape)\n",
    "\n",
    "\n",
    "#target_path = \"data/padded_Downsized_to_60micron_56%.tif\"\n",
    "#target_path = \"data/padded_binary.tif\"\n",
    "target_path = 'data/registered/output/registered_mask.tif'\n",
    "target = tifffile.imread(target_path)\n",
    "print (target.shape)\n",
    "\n",
    "\n",
    "#test size is the same path but different part of the file will be selected\n",
    "\n",
    "test_data_path = data_path\n",
    "test_target_path= target_path\n"
   ]
  },
  {
   "cell_type": "code",
   "execution_count": 4,
   "id": "65396a98",
   "metadata": {},
   "outputs": [
    {
     "name": "stdout",
     "output_type": "stream",
     "text": [
      "data shape =  (128, 128, 128)\n",
      "data max =  1.0\n",
      "target shape =  (128, 128, 128)\n",
      "target max =  1.0\n",
      "data shape =  (128, 128, 128)\n",
      "data max =  1.0\n",
      "target shape =  (128, 128, 128)\n",
      "target max =  1.0\n"
     ]
    }
   ],
   "source": [
    "# Create instances of your training and test datasets and data loaders\n",
    "train_dataset = dataloader.CustomDataset(data_path, target_path,\n",
    "                                         section=train_section,\n",
    "                                         patch_size=patch_size ,\n",
    "                                         transform=1,\n",
    "                                        step = 2)\n",
    "\n",
    "\n",
    "test_dataset = dataloader.CustomDataset(test_data_path,\n",
    "                                        test_target_path,\n",
    "                                        section=test_section,\n",
    "                                        patch_size=patch_size ,\n",
    "                                        transform=None,\n",
    "                                       step=patch_size)\n",
    "\n",
    "train_data_loader = DataLoader(train_dataset,\n",
    "                               batch_size=batch_size,\n",
    "                               shuffle=True)\n",
    "\n",
    "test_data_loader = DataLoader(test_dataset,\n",
    "                              batch_size=batch_size,\n",
    "                              shuffle=False)\n"
   ]
  },
  {
   "cell_type": "code",
   "execution_count": 5,
   "id": "9f3357da",
   "metadata": {},
   "outputs": [],
   "source": [
    "def check_data_set_2 (dataset):\n",
    "    fig, axs = plt.subplots(1, 3, figsize=(6, 6))\n",
    "\n",
    "    for img, gt in dataset:\n",
    "        print ('Shape of input data',img.shape)\n",
    "        axs[0].imshow(img[0,0,0,:,:],'gray')\n",
    "        axs[1].imshow(gt[0,0,0,:,:],'gray')\n",
    "        color_image = img[0,0,0,:,:].numpy()\n",
    "        color_image = color_image*255\n",
    "        color_image = cv2.cvtColor(color_image.astype('uint8'), cv2.COLOR_GRAY2BGR)\n",
    "        axs[2].imshow(skimage.segmentation.mark_boundaries(color_image,gt[0,0,0,:,:].numpy().astype('uint8')),'gray')\n",
    "        \n",
    "        #print ('img mean = ', img[0,0,0,:,:].mean())\n",
    "        #print ('gt mean = ', gt[0,0,0,:,:].mean())\n",
    "        break\n",
    "    return img , gt"
   ]
  },
  {
   "cell_type": "code",
   "execution_count": 9,
   "id": "ba87499f",
   "metadata": {},
   "outputs": [
    {
     "name": "stdout",
     "output_type": "stream",
     "text": [
      "Shape of input data torch.Size([1, 1, 32, 32, 32])\n",
      "Lnegth of traning data 79233\n"
     ]
    },
    {
     "data": {
      "image/png": "[encoded data removed]",
      "text/plain": [
       "<Figure size 600x600 with 3 Axes>"
      ]
     },
     "metadata": {},
     "output_type": "display_data"
    }
   ],
   "source": [
    "# run this cell multiple times and check the alignment of the input image and ground truth\n",
    "img , gt = check_data_set_2(train_data_loader)\n",
    "print ('Lnegth of traning data',len (train_data_loader))"
   ]
  },
  {
   "cell_type": "code",
   "execution_count": 9,
   "id": "7be96f80",
   "metadata": {},
   "outputs": [],
   "source": [
    "# Training function\n",
    "def train(model, train_data_loader, test_data_loader, num_epochs, learning_rate):\n",
    "    #checking differetn criterions \n",
    "    #criterion = nn.BCEWithLogitsLoss()\n",
    "    #criterion = nn.L1Loss()\n",
    "    #criterion = nn.CrossEntropyLoss()\n",
    "    #criterion = nn.BCELoss()\n",
    "    optimizer = optim.Adam(model.parameters(), lr=learning_rate)\n",
    "    scheduler = optim.lr_scheduler.StepLR(optimizer, step_size=50, gamma=0.1)\n",
    "    device = torch.device(\"cuda\" if torch.cuda.is_available() else \"cpu\")\n",
    "    print (device)\n",
    "    model.to(device)\n",
    "    \n",
    "    for epoch in range(num_epochs):\n",
    "        t1 = time.time()\n",
    "        model.train()\n",
    "        train_loss = 0.0\n",
    "        counter = 1\n",
    "        for data, target in train_data_loader:\n",
    "            print ('input shape {}'.format(data.shape),'Training progress for epoch {}'.format(epoch+1),\n",
    "                   counter*100 //len(train_data_loader),'%', end = '\\r')\n",
    "            counter +=1\n",
    "\n",
    "            data, target = data.to(device), target.to(device)\n",
    "\n",
    "            optimizer.zero_grad()\n",
    "            output = model(data)\n",
    "            #If using a cirterion please uncomment this line and comment out the Kornia loss\n",
    "            #loss = criterion(output, target)\n",
    "            \n",
    "            kwargs = {\"alpha\": 0.5, \"gamma\": 1.0, \"reduction\": 'mean'}\n",
    "            loss = kornia.losses.binary_focal_loss_with_logits(output, target, **kwargs)\n",
    "            loss.backward()\n",
    "            optimizer.step()\n",
    "            \n",
    "            train_loss += loss.item()\n",
    "            \n",
    "        scheduler.step()\n",
    "        t2 = time.time()\n",
    "        print(f\"Epoch [{epoch + 1}/{num_epochs}], Training Loss: {train_loss / len(train_data_loader):.4f}, Time (min) = {round((t2-t1)/60)}\")\n",
    "\n",
    "        #Calculate F1-score on test set\n",
    "        model.eval()\n",
    "        with torch.no_grad():\n",
    "            f1= []\n",
    "            t_counter = 1\n",
    "            for data, target in test_data_loader:\n",
    "                if data.max()>1:\n",
    "                    print ('Input data has issue !!!!')\n",
    "                data, target = data.to(device), target.to(device)\n",
    "                output = model(data)\n",
    "\n",
    "                output = (output>0.6).float()\n",
    "                output = output.cpu().numpy().flatten()\n",
    "                target= target.cpu().numpy().flatten()\n",
    "                f1.append(f1_score(target, output))\n",
    "                t_counter +=1\n",
    "                print ('testing progress for epoch {}%'.format(epoch+1),t_counter*100 //len(test_data_loader), end = '\\r')\n",
    "            print(f\"F1-score: {np.array(f1).mean()}\")"
   ]
  },
  {
   "cell_type": "code",
   "execution_count": 10,
   "id": "a269f3ce",
   "metadata": {
    "scrolled": true
   },
   "outputs": [
    {
     "name": "stdout",
     "output_type": "stream",
     "text": [
      "cuda\n",
      "Epoch [1/60], Training Loss: 0.0228, Time (min) = 49progress for epoch 1 100 %\n",
      "F1-score: 0.9900656414387077% 101\n",
      "Epoch [2/60], Training Loss: 0.0053, Time (min) = 49progress for epoch 2 100 %\n",
      "F1-score: 0.9908736268733078% 101\n",
      "Epoch [3/60], Training Loss: 0.0039, Time (min) = 49progress for epoch 3 100 %\n",
      "F1-score: 0.9911897793009901% 101\n",
      "Epoch [4/60], Training Loss: 0.0032, Time (min) = 49progress for epoch 4 100 %\n",
      "F1-score: 0.9907759675726309% 101\n",
      "Epoch [5/60], Training Loss: 0.0027, Time (min) = 49progress for epoch 5 100 %\n",
      "F1-score: 0.9939018508298336% 101\n",
      "Epoch [6/60], Training Loss: 0.0023, Time (min) = 49progress for epoch 6 100 %\n",
      "F1-score: 0.9937438459768948% 101\n",
      "Epoch [7/60], Training Loss: 0.0021, Time (min) = 49progress for epoch 7 100 %\n",
      "F1-score: 0.9926453801237121% 101\n",
      "Epoch [8/60], Training Loss: 0.0019, Time (min) = 49progress for epoch 8 100 %\n",
      "F1-score: 0.9928396873800328% 101\n",
      "Epoch [9/60], Training Loss: 0.0017, Time (min) = 49progress for epoch 9 100 %\n",
      "F1-score: 0.9924014444342995% 101\n",
      "Epoch [10/60], Training Loss: 0.0016, Time (min) = 49rogress for epoch 10 100 %\n",
      "F1-score: 0.99276325910843420% 101\n",
      "Epoch [11/60], Training Loss: 0.0015, Time (min) = 49rogress for epoch 11 100 %\n",
      "F1-score: 0.99398538743346861% 101\n",
      "Epoch [12/60], Training Loss: 0.0014, Time (min) = 49rogress for epoch 12 100 %\n",
      "F1-score: 0.99361534186360112% 101\n",
      "Epoch [13/60], Training Loss: 0.0013, Time (min) = 49rogress for epoch 13 100 %\n",
      "F1-score: 0.99479437461431923% 101\n",
      "Epoch [14/60], Training Loss: 0.0012, Time (min) = 49rogress for epoch 14 100 %\n",
      "F1-score: 0.99122555313087934% 101\n",
      "Epoch [15/60], Training Loss: 0.0011, Time (min) = 49rogress for epoch 15 100 %\n",
      "F1-score: 0.99326094021950115% 101\n",
      "Epoch [16/60], Training Loss: 0.0011, Time (min) = 49rogress for epoch 16 100 %\n",
      "F1-score: 0.99403978361305716% 101\n",
      "Epoch [17/60], Training Loss: 0.0010, Time (min) = 49rogress for epoch 17 100 %\n",
      "F1-score: 0.99372381703728447% 101\n",
      "Epoch [18/60], Training Loss: 0.0010, Time (min) = 49rogress for epoch 18 100 %\n",
      "F1-score: 0.99214247486726278% 101\n",
      "Epoch [19/60], Training Loss: 0.0009, Time (min) = 49rogress for epoch 19 100 %\n",
      "F1-score: 0.99440261538766039% 101\n",
      "Epoch [20/60], Training Loss: 0.0009, Time (min) = 49rogress for epoch 20 100 %\n",
      "F1-score: 0.99535859122921720% 101\n",
      "Epoch [21/60], Training Loss: 0.0009, Time (min) = 49rogress for epoch 21 100 %\n",
      "F1-score: 0.99422538409948671% 101\n",
      "Epoch [22/60], Training Loss: 0.0008, Time (min) = 49rogress for epoch 22 100 %\n",
      "F1-score: 0.99205401273440622% 101\n",
      "Epoch [23/60], Training Loss: 0.0008, Time (min) = 49rogress for epoch 23 100 %\n",
      "F1-score: 0.99466397533002793% 101\n",
      "Epoch [24/60], Training Loss: 0.0008, Time (min) = 49rogress for epoch 24 100 %\n",
      "F1-score: 0.99516184728887024% 101\n",
      "Epoch [25/60], Training Loss: 0.0007, Time (min) = 49rogress for epoch 25 100 %\n",
      "F1-score: 0.99526183780538895% 101\n",
      "Epoch [26/60], Training Loss: 0.0007, Time (min) = 49rogress for epoch 26 100 %\n",
      "F1-score: 0.99269664824989126% 101\n",
      "Epoch [27/60], Training Loss: 0.0007, Time (min) = 49rogress for epoch 27 100 %\n",
      "F1-score: 0.99541732893081417% 101\n",
      "Epoch [28/60], Training Loss: 0.0007, Time (min) = 49rogress for epoch 28 100 %\n",
      "F1-score: 0.99297029982275328% 101\n",
      "Epoch [29/60], Training Loss: 0.0006, Time (min) = 49rogress for epoch 29 100 %\n",
      "F1-score: 0.99341993585717629% 101\n",
      "Epoch [30/60], Training Loss: 0.0006, Time (min) = 49rogress for epoch 30 100 %\n",
      "F1-score: 0.99494080823328690% 101\n",
      "Epoch [31/60], Training Loss: 0.0006, Time (min) = 49rogress for epoch 31 100 %\n",
      "F1-score: 0.99516870086880531% 101\n",
      "Epoch [32/60], Training Loss: 0.0006, Time (min) = 49rogress for epoch 32 100 %\n",
      "F1-score: 0.99591016722722772% 101\n",
      "Epoch [33/60], Training Loss: 0.0006, Time (min) = 49rogress for epoch 33 100 %\n",
      "F1-score: 0.99577192480102073% 101\n",
      "Epoch [34/60], Training Loss: 0.0006, Time (min) = 49rogress for epoch 34 100 %\n",
      "F1-score: 0.99305149361827664% 101\n",
      "Epoch [35/60], Training Loss: 0.0006, Time (min) = 49rogress for epoch 35 100 %\n",
      "F1-score: 0.99507735552756245% 101\n",
      "Epoch [36/60], Training Loss: 0.0005, Time (min) = 49rogress for epoch 36 100 %\n",
      "F1-score: 0.99515521711339776% 101\n",
      "Epoch [37/60], Training Loss: 0.0005, Time (min) = 49rogress for epoch 37 100 %\n",
      "F1-score: 0.99406031688777437% 101\n",
      "Epoch [38/60], Training Loss: 0.0005, Time (min) = 49rogress for epoch 38 100 %\n",
      "F1-score: 0.99394662514918868% 101\n",
      "Epoch [39/60], Training Loss: 0.0005, Time (min) = 49rogress for epoch 39 100 %\n",
      "F1-score: 0.99384448705381199% 101\n",
      "Epoch [40/60], Training Loss: 0.0005, Time (min) = 49rogress for epoch 40 100 %\n",
      "F1-score: 0.99305492250648440% 101\n",
      "Epoch [41/60], Training Loss: 0.0005, Time (min) = 49rogress for epoch 41 100 %\n",
      "F1-score: 0.99130495068198611% 101\n",
      "Epoch [42/60], Training Loss: 0.0005, Time (min) = 49rogress for epoch 42 100 %\n",
      "F1-score: 0.99464188514352282% 101\n",
      "Epoch [43/60], Training Loss: 0.0005, Time (min) = 49rogress for epoch 43 100 %\n",
      "F1-score: 0.99515427923347163% 101\n",
      "Epoch [44/60], Training Loss: 0.0005, Time (min) = 49rogress for epoch 44 100 %\n",
      "F1-score: 0.99565764836718034% 101\n",
      "Epoch [45/60], Training Loss: 0.0005, Time (min) = 49rogress for epoch 45 100 %\n",
      "F1-score: 0.99478663336491885% 101\n",
      "Epoch [46/60], Training Loss: 0.0004, Time (min) = 49rogress for epoch 46 100 %\n",
      "F1-score: 0.99567463086377566% 101\n",
      "Epoch [47/60], Training Loss: 0.0004, Time (min) = 49rogress for epoch 47 100 %\n",
      "F1-score: 0.99251773728377557% 101\n",
      "Epoch [48/60], Training Loss: 0.0004, Time (min) = 49rogress for epoch 48 100 %\n",
      "F1-score: 0.99460800055482858% 101\n",
      "Epoch [49/60], Training Loss: 0.0004, Time (min) = 49rogress for epoch 49 100 %\n",
      "F1-score: 0.99558389582331149% 101\n",
      "Epoch [50/60], Training Loss: 0.0004, Time (min) = 49rogress for epoch 50 100 %\n",
      "F1-score: 0.99507164464662180% 101\n",
      "Epoch [51/60], Training Loss: 0.0004, Time (min) = 49rogress for epoch 51 100 %\n",
      "F1-score: 0.99594614726969421% 101\n",
      "Epoch [52/60], Training Loss: 0.0003, Time (min) = 49rogress for epoch 52 100 %\n",
      "F1-score: 0.99570746941181012% 101\n",
      "Epoch [53/60], Training Loss: 0.0003, Time (min) = 49rogress for epoch 53 100 %\n",
      "F1-score: 0.99382554409723593% 101\n",
      "Epoch [54/60], Training Loss: 0.0003, Time (min) = 49rogress for epoch 54 100 %\n",
      "F1-score: 0.99363362258241124% 101\n",
      "Epoch [55/60], Training Loss: 0.0003, Time (min) = 49rogress for epoch 55 100 %\n",
      "F1-score: 0.99328404169780055% 101\n",
      "Epoch [56/60], Training Loss: 0.0003, Time (min) = 49rogress for epoch 56 100 %\n",
      "F1-score: 0.99537196834023546% 101\n",
      "Epoch [57/60], Training Loss: 0.0003, Time (min) = 49rogress for epoch 57 100 %\n",
      "F1-score: 0.99432364945948757% 101\n",
      "Epoch [58/60], Training Loss: 0.0003, Time (min) = 49rogress for epoch 58 100 %\n",
      "F1-score: 0.99174661167677918% 101\n",
      "Epoch [59/60], Training Loss: 0.0003, Time (min) = 49rogress for epoch 59 100 %\n",
      "F1-score: 0.99492520363995679% 101\n",
      "Epoch [60/60], Training Loss: 0.0003, Time (min) = 49rogress for epoch 60 100 %\n",
      "F1-score: 0.99392001840273920% 101\n"
     ]
    }
   ],
   "source": [
    "# Create an instance of the model\n",
    "# two final models with different layers for different patch size were developed\n",
    "model = UNET.UNet(in_channels=1, out_channels=1)\n",
    "#model = UNET2.UNet(in_channels=1, out_channels=1)\n",
    "\n",
    "# Set the hyperparameters\n",
    "num_epochs = 60\n",
    "learning_rate = 0.00001\n",
    "import warnings\n",
    "warnings.filterwarnings(\"ignore\")\n",
    "# Train the model\n",
    "train(model, train_data_loader, test_data_loader, num_epochs, learning_rate)"
   ]
  },
  {
   "cell_type": "code",
   "execution_count": 16,
   "id": "d54950ff",
   "metadata": {},
   "outputs": [
    {
     "name": "stdout",
     "output_type": "stream",
     "text": [
      "torch.Size([1, 1, 32, 32, 32])\n"
     ]
    },
    {
     "data": {
      "image/png": "[encoded data removed]",
      "text/plain": [
       "<Figure size 800x600 with 3 Axes>"
      ]
     },
     "metadata": {},
     "output_type": "display_data"
    }
   ],
   "source": [
    "for data, target in train_data_loader:\n",
    "    print (data.shape)\n",
    "    device = torch.device(\"cuda\" if torch.cuda.is_available() else \"cpu\")\n",
    "\n",
    "    data = data.to(device)\n",
    "    prediction = model(data)\n",
    "    data = data.cpu()\n",
    "    prediction = prediction.cpu()\n",
    "                #predicted = output.argmax(dim=1)\n",
    "\n",
    "    prediction = (prediction>0.5).float()\n",
    "    fig, axes = plt.subplots(1, 3, figsize=(8, 6))\n",
    "    axes[0].imshow(prediction[0,0,7,:,:], cmap='gray')\n",
    "    axes[0].axis('off')\n",
    "    axes[0].set_title('Prediction')\n",
    "    \n",
    "    axes[1].imshow(target[0,0,7,:,:], cmap='gray')\n",
    "    axes[1].axis('off')\n",
    "    axes[1].set_title('Target')\n",
    "    \n",
    "    axes[2].imshow(data[0,0,7,:,:], cmap='gray')\n",
    "    axes[2].axis('off')\n",
    "    axes[2].set_title('raw image')\n",
    "\n",
    "    break\n",
    "\n"
   ]
  },
  {
   "cell_type": "code",
   "execution_count": 17,
   "id": "6607e2ee",
   "metadata": {},
   "outputs": [
    {
     "name": "stdout",
     "output_type": "stream",
     "text": [
      "image shape =  (123, 235, 165)\n"
     ]
    }
   ],
   "source": [
    "image = tifffile.imread(data_path)\n",
    "target = tifffile.imread(target_path)\n",
    "print ('image shape = ',image.shape)"
   ]
  },
  {
   "cell_type": "code",
   "execution_count": 18,
   "id": "f3bdce5a",
   "metadata": {},
   "outputs": [
    {
     "data": {
      "text/plain": [
       "<matplotlib.image.AxesImage at 0x24fb6b65de0>"
      ]
     },
     "execution_count": 18,
     "metadata": {},
     "output_type": "execute_result"
    },
    {
     "data": {
      "image/png": "[encoded data removed]",
      "text/plain": [
       "<Figure size 640x480 with 1 Axes>"
      ]
     },
     "metadata": {},
     "output_type": "display_data"
    }
   ],
   "source": [
    "plt.imshow(image[10],'gray')"
   ]
  },
  {
   "cell_type": "code",
   "execution_count": 19,
   "id": "c196cabd",
   "metadata": {},
   "outputs": [
    {
     "name": "stdout",
     "output_type": "stream",
     "text": [
      "before reshape (64, 32, 32, 32)\n",
      "final output shape (128, 128, 128)\n",
      "final target shape (128, 128, 128)\n"
     ]
    }
   ],
   "source": [
    "all_patches = np.zeros((1, patch_size, patch_size, patch_size))\n",
    "target_patches = np.zeros((1, patch_size, patch_size, patch_size))\n",
    "model.eval()\n",
    "with torch.no_grad():\n",
    "    for data, target in test_data_loader:\n",
    "        data, target = data.to(device), target.to(device)\n",
    "        output = model(data)\n",
    "\n",
    "        output = (output>0.5).float()\n",
    "        output = output.cpu().numpy()[0]\n",
    "        target = target.cpu().numpy()[0]\n",
    "        all_patches = np.concatenate((all_patches,output), axis=0)\n",
    "        target_patches = np.concatenate((target_patches,target), axis=0)\n",
    "    all_patches = all_patches[1:,:,:,:]\n",
    "    target_patches = target_patches[1:,:,:,:]\n",
    "    print ('before reshape',all_patches.shape)\n",
    "    #print (test_dataset.patchy_shape)\n",
    "    all_patches=all_patches.reshape(test_dataset.patchy_shape)\n",
    "    target_patches = target_patches.reshape(test_dataset.patchy_shape)\n",
    "    output = unpatchify(all_patches, test_dataset.original_shape)\n",
    "    target = unpatchify(target_patches, test_dataset.original_shape)\n",
    "    print ('final output shape',output.shape)\n",
    "    print ('final target shape',target.shape)"
   ]
  },
  {
   "cell_type": "code",
   "execution_count": 38,
   "id": "f6b33c0e",
   "metadata": {},
   "outputs": [
    {
     "data": {
      "text/plain": [
       "<matplotlib.image.AxesImage at 0x254fd430490>"
      ]
     },
     "execution_count": 38,
     "metadata": {},
     "output_type": "execute_result"
    },
    {
     "data": {
      "image/png": "[encoded data removed]",
      "text/plain": [
       "<Figure size 640x480 with 1 Axes>"
      ]
     },
     "metadata": {},
     "output_type": "display_data"
    }
   ],
   "source": [
    "#visual check\n",
    "n=100\n",
    "color_image = cv2.cvtColor((target[n]*255).astype('uint8'), cv2.COLOR_GRAY2BGR)\n",
    "plt.imshow(skimage.segmentation.mark_boundaries(color_image*100,output[n].astype('uint8')),'gray')"
   ]
  },
  {
   "cell_type": "code",
   "execution_count": 43,
   "id": "254a3a7d",
   "metadata": {},
   "outputs": [],
   "source": [
    "tifffile.imwrite('3D_Unet_32_32_32.tif',output)"
   ]
  },
  {
   "cell_type": "code",
   "execution_count": 40,
   "id": "f5549bbf",
   "metadata": {},
   "outputs": [
    {
     "name": "stdout",
     "output_type": "stream",
     "text": [
      "=> Saving checkpoint\n"
     ]
    }
   ],
   "source": [
    "#save model\n",
    "def save_checkpoint(state, filename=\"my_checkpoint.pth.tar\"):\n",
    "    print(\"=> Saving checkpoint\")\n",
    "    torch.save(state, filename)\n",
    "\n",
    "checkpoint = {\"state_dict\": model.state_dict()}\n",
    "save_checkpoint(checkpoint)"
   ]
  },
  {
   "cell_type": "code",
   "execution_count": null,
   "id": "428919df",
   "metadata": {},
   "outputs": [],
   "source": [
    "def load_checkpoint(checkpoint, model):\n",
    "    print(\"=> Loading checkpoint\")\n",
    "    model.load_state_dict(checkpoint[\"state_dict\"])\n",
    "\n",
    "load_checkpoint(torch.load(\"my_checkpoint.pth.tar\"), model)"
   ]
  },
  {
   "cell_type": "code",
   "execution_count": null,
   "id": "4bed486d",
   "metadata": {},
   "outputs": [],
   "source": [
    "def padd_to_proper(data):\n",
    "    padded_image = np.pad(data[:,:,16:], ((0, 128-123), (11,10), (0, 0)), mode='constant') \n",
    "    return padded_image[:,:,:-21]"
   ]
  },
  {
   "cell_type": "code",
   "execution_count": null,
   "id": "f99b6f2e",
   "metadata": {},
   "outputs": [],
   "source": [
    "def padd_to_proper_2(data):\n",
    "    padded_image = np.pad(data[:,53:-54,16:], ((0, 128-123), (0,0), (0, 0)), mode='constant') \n",
    "    return padded_image[:,:,:-21]"
   ]
  },
  {
   "cell_type": "code",
   "execution_count": null,
   "id": "64f6a5f8",
   "metadata": {},
   "outputs": [],
   "source": [
    "def contrast_stretching(input_image):\n",
    "    # Contrast stretching + Normalizing 0-255\n",
    "    p2, p98 = np.percentile(input_image, (2, 98))\n",
    "    stretched_image = skimage.exposure.rescale_intensity(input_image, in_range=(p2, p98))\n",
    "\n",
    "    \n",
    "    return stretched_image\n",
    "\n",
    "def padd_to_proper(data):\n",
    "    padded_image = np.pad(data[:,:,16:], ((0, 128-123), (11,10), (0, 0)), mode='constant') \n",
    "    return padded_image[:,:,:-21]\n",
    "    \n",
    "\n",
    "def predict_for_one_patch(img, model):\n",
    "    \n",
    "    img = contrast_stretching(img)\n",
    "    img = torch.from_numpy(img).float()\n",
    "    device = torch.device(\"cuda\" if torch.cuda.is_available() else \"cpu\")\n",
    "    img = img.to(device)\n",
    "    #print ('img max before going to model',img.max())\n",
    "    output = model(img)\n",
    "    output = output.cpu()\n",
    "    output = output.detach().numpy()\n",
    "    output [output >= 0.5] = 1\n",
    "    output [output < 0.5] = 0\n",
    "    #output = output[:,0,:,:,:]\n",
    "    return output\n",
    "\n",
    "def prediction (img, patch_size_, model):\n",
    "    \n",
    "    reshaped_img = padd_to_proper(img)\n",
    "    img = reshaped_img\n",
    "    \n",
    "    original_img_shape = img.shape\n",
    "    \n",
    "    #image into patches\n",
    "    img = patchify(img,(patch_size_, patch_size_, patch_size_) ,  step=patch_size_ )\n",
    "    \n",
    "    # image shape after patching\n",
    "    original_patches_shape = img.shape\n",
    "    \n",
    "    \n",
    "    img = img.reshape(img.shape[0]*img.shape[1]*img.shape[2],1,\n",
    "                         patch_size_,patch_size_,patch_size_ )\n",
    "    \n",
    "    output = np.zeros_like(img)\n",
    "    for i in range (img.shape[0]):\n",
    "        output[i]= predict_for_one_patch(img[i:i+1], model)\n",
    "\n",
    "\n",
    "    \n",
    "    output = output[:,0,:,:,:]\n",
    "    output= output.reshape(original_patches_shape)\n",
    "    \n",
    "    output = unpatchify(output, original_img_shape)\n",
    "    \n",
    "    return reshaped_img, output\n"
   ]
  },
  {
   "cell_type": "code",
   "execution_count": null,
   "id": "298066dc",
   "metadata": {},
   "outputs": [],
   "source": [
    "input_data = tifffile.imread(data_path)\n",
    "#input_data , output = prediction(input_data,patch_size,model=model)\n",
    "gt = padd_to_proper(tifffile.imread(target_path))"
   ]
  },
  {
   "cell_type": "code",
   "execution_count": null,
   "id": "c8910a5f",
   "metadata": {},
   "outputs": [],
   "source": [
    "plt.imshow(output[20],'gray')\n",
    "print ('test section is layers ', input_data.shape[0]*np.array(test_section))"
   ]
  },
  {
   "cell_type": "code",
   "execution_count": null,
   "id": "91f8615a",
   "metadata": {},
   "outputs": [],
   "source": [
    "#visual check\n",
    "n=10\n",
    "color_image = cv2.cvtColor(gt[n].astype('uint8'), cv2.COLOR_GRAY2BGR)\n",
    "plt.imshow(skimage.segmentation.mark_boundaries(color_image*100,output[n].astype('uint8')),'gray')"
   ]
  },
  {
   "cell_type": "code",
   "execution_count": null,
   "id": "8cd10cb0",
   "metadata": {},
   "outputs": [],
   "source": [
    "#visual check\n",
    "color_image = cv2.cvtColor((input_data[:20][n]*255).astype('uint8'), cv2.COLOR_GRAY2BGR)\n",
    "plt.imshow(skimage.segmentation.mark_boundaries(color_image,output[n].astype('uint8')),'gray')"
   ]
  },
  {
   "cell_type": "code",
   "execution_count": null,
   "id": "f52abfaf",
   "metadata": {},
   "outputs": [],
   "source": [
    "color_image = cv2.cvtColor(input_data[n].astype('uint8'), cv2.COLOR_GRAY2BGR)\n",
    "plt.imshow(skimage.segmentation.mark_boundaries(color_image,(gt[n]).astype('uint8')),'gray')\n",
    "n=0"
   ]
  },
  {
   "cell_type": "code",
   "execution_count": null,
   "id": "4361674d",
   "metadata": {},
   "outputs": [],
   "source": []
  }
 ],
 "metadata": {
  "kernelspec": {
   "display_name": "Python 3 (ipykernel)",
   "language": "python",
   "name": "python3"
  },
  "language_info": {
   "codemirror_mode": {
    "name": "ipython",
    "version": 3
   },
   "file_extension": ".py",
   "mimetype": "text/x-python",
   "name": "python",
   "nbconvert_exporter": "python",
   "pygments_lexer": "ipython3",
   "version": "3.10.4"
  }
 },
 "nbformat": 4,
 "nbformat_minor": 5
}
