{
 "cells": [
  {
   "cell_type": "code",
   "execution_count": 1,
   "id": "00b0cae9",
   "metadata": {},
   "outputs": [],
   "source": [
    "import cv2\n",
    "import torch\n",
    "import torch.nn as nn\n",
    "import torch.optim as optim\n",
    "from torch.utils.data import Dataset, DataLoader\n",
    "from torchvision.transforms import ToTensor, RandomHorizontalFlip, RandomVerticalFlip\n",
    "from sklearn.metrics import f1_score\n",
    "import numpy as np\n",
    "from torchvision import transforms\n",
    "import UNET\n",
    "import UNET2\n",
    "import matplotlib.pyplot as plt\n",
    "#from tqdm import tqdm\n",
    "import tifffile\n",
    "import skimage\n",
    "import kornia\n",
    "torch.manual_seed(17)\n",
    "import random\n",
    "import time\n",
    "from patchify import patchify, unpatchify"
   ]
  },
  {
   "cell_type": "code",
   "execution_count": 2,
   "id": "f5a866dc",
   "metadata": {},
   "outputs": [
    {
     "name": "stdout",
     "output_type": "stream",
     "text": [
      "(123, 235, 165)\n",
      "(123, 235, 165)\n"
     ]
    }
   ],
   "source": [
    "data_path ='data/registered/output/fixed_low_res.tif'\n",
    "data = tifffile.imread(data_path)\n",
    "print (data.shape)\n",
    "\n",
    "target_path = 'data/registered/output/registered_mask.tif'\n",
    "target = tifffile.imread(target_path)\n",
    "print (target.shape)"
   ]
  },
  {
   "cell_type": "code",
   "execution_count": 3,
   "id": "c6793733",
   "metadata": {},
   "outputs": [
    {
     "name": "stdout",
     "output_type": "stream",
     "text": [
      "=> Loading checkpoint\n"
     ]
    }
   ],
   "source": [
    "def load_checkpoint(checkpoint, model):\n",
    "    print(\"=> Loading checkpoint\")\n",
    "    model.load_state_dict(checkpoint[\"state_dict\"])\n",
    "\n",
    "model = UNET.UNet(in_channels=1, out_channels=1)\n",
    "load_checkpoint(torch.load(\"my_checkpoint.pth.tar\"), model)\n"
   ]
  },
  {
   "cell_type": "code",
   "execution_count": 5,
   "id": "4515d67f",
   "metadata": {},
   "outputs": [],
   "source": [
    "def padd_to_proper(data, target):\n",
    "    padded_image = np.pad(data[:,53:-54,6:-10], ((0, 128-123), (0,0), (0, 0)), mode='constant')\n",
    "    padded_target = np.pad(target[:,53:-54,6:-10], ((0, 128-123), (0,0), (0, 0)), mode='constant') \n",
    "    #padded_image = np.pad(data[:,:,16:], ((0, 128-123), (11,10), (0, 0)), mode='constant') \n",
    "    return padded_image[:,:,:-21], padded_target[:,:,:-21]"
   ]
  },
  {
   "cell_type": "code",
   "execution_count": 6,
   "id": "49ab4f82",
   "metadata": {},
   "outputs": [
    {
     "name": "stdout",
     "output_type": "stream",
     "text": [
      "data shape =  (128, 128, 128)\n",
      "target shape =  (128, 128, 128)\n"
     ]
    }
   ],
   "source": [
    "data , target = padd_to_proper(data,target)\n",
    "print ('data shape = ',data.shape)\n",
    "print ('target shape = ',target.shape)"
   ]
  },
  {
   "cell_type": "code",
   "execution_count": 7,
   "id": "df3444d7",
   "metadata": {},
   "outputs": [
    {
     "data": {
      "text/plain": [
       "DoubleConv(\n",
       "  (double_conv): Sequential(\n",
       "    (0): Conv3d(1, 16, kernel_size=(3, 3, 3), stride=(1, 1, 1), padding=(1, 1, 1))\n",
       "    (1): BatchNorm3d(16, eps=1e-05, momentum=0.1, affine=True, track_running_stats=True)\n",
       "    (2): ReLU(inplace=True)\n",
       "    (3): Conv3d(16, 16, kernel_size=(3, 3, 3), stride=(1, 1, 1), padding=(1, 1, 1))\n",
       "    (4): BatchNorm3d(16, eps=1e-05, momentum=0.1, affine=True, track_running_stats=True)\n",
       "    (5): ReLU(inplace=True)\n",
       "  )\n",
       ")"
      ]
     },
     "execution_count": 7,
     "metadata": {},
     "output_type": "execute_result"
    }
   ],
   "source": [
    "list(model.children())[0]"
   ]
  },
  {
   "cell_type": "code",
   "execution_count": 27,
   "id": "2f1d4d1f",
   "metadata": {},
   "outputs": [
    {
     "name": "stdout",
     "output_type": "stream",
     "text": [
      "input shape torch.Size([1, 1, 32, 32, 32])\n",
      "output shape (32, 32, 32)\n"
     ]
    }
   ],
   "source": [
    "input_ = data[0:32,0:32,0:32]\n",
    "input = torch.from_numpy(input_).float()\n",
    "input = input.unsqueeze(dim = 0)\n",
    "input = input.unsqueeze(dim = 0)\n",
    "print ('input shape',input.shape)\n",
    "output = model(input)\n",
    "output = output.squeeze(dim = 0)\n",
    "output = output.squeeze(dim = 0)\n",
    "output = (output>0.5).float().numpy()\n",
    "print ('output shape',output.shape)\n"
   ]
  },
  {
   "cell_type": "code",
   "execution_count": 24,
   "id": "09d15828",
   "metadata": {},
   "outputs": [
    {
     "data": {
      "text/plain": [
       "<matplotlib.image.AxesImage at 0x2b0b39a57b0>"
      ]
     },
     "execution_count": 24,
     "metadata": {},
     "output_type": "execute_result"
    },
    {
     "data": {
      "image/png": "[encoded data removed]",
      "text/plain": [
       "<Figure size 640x480 with 1 Axes>"
      ]
     },
     "metadata": {},
     "output_type": "display_data"
    }
   ],
   "source": [
    "plt.imshow(input_[10],'gray')"
   ]
  },
  {
   "cell_type": "code",
   "execution_count": 28,
   "id": "1bf34e50",
   "metadata": {},
   "outputs": [
    {
     "data": {
      "text/plain": [
       "<matplotlib.image.AxesImage at 0x2b0b5525f60>"
      ]
     },
     "execution_count": 28,
     "metadata": {},
     "output_type": "execute_result"
    },
    {
     "data": {
      "image/png": "[encoded data removed]",
      "text/plain": [
       "<Figure size 640x480 with 1 Axes>"
      ]
     },
     "metadata": {},
     "output_type": "display_data"
    }
   ],
   "source": [
    "plt.imshow(output[10])"
   ]
  },
  {
   "cell_type": "code",
   "execution_count": null,
   "id": "4d8748fd",
   "metadata": {},
   "outputs": [],
   "source": []
  },
  {
   "cell_type": "code",
   "execution_count": null,
   "id": "67d00ea5",
   "metadata": {},
   "outputs": [],
   "source": []
  },
  {
   "cell_type": "code",
   "execution_count": null,
   "id": "ad3057ea",
   "metadata": {},
   "outputs": [],
   "source": []
  }
 ],
 "metadata": {
  "kernelspec": {
   "display_name": "Python 3 (ipykernel)",
   "language": "python",
   "name": "python3"
  },
  "language_info": {
   "codemirror_mode": {
    "name": "ipython",
    "version": 3
   },
   "file_extension": ".py",
   "mimetype": "text/x-python",
   "name": "python",
   "nbconvert_exporter": "python",
   "pygments_lexer": "ipython3",
   "version": "3.10.4"
  }
 },
 "nbformat": 4,
 "nbformat_minor": 5
}
