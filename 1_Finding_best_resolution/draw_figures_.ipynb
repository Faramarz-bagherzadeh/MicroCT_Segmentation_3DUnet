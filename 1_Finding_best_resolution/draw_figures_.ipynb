{
 "cells": [
  {
   "cell_type": "code",
   "execution_count": 2,
   "id": "5be7843f",
   "metadata": {},
   "outputs": [],
   "source": [
    "import tifffile\n",
    "from shapely.geometry import Polygon\n",
    "import matplotlib.pyplot as plt\n",
    "import pandas as pd\n",
    "import pyvista as pv\n",
    "import cv2 as cv\n",
    "import numpy as np\n",
    "import itertools\n",
    "import scipy\n",
    "import time\n",
    "import pandas as pd\n",
    "from sklearn.mixture import GaussianMixture as GMM\n",
    "from skimage.segmentation import mark_boundaries, slic\n",
    "from scipy.ndimage import generic_filter\n",
    "from cv2 import fastNlMeansDenoising,fastNlMeansDenoisingMulti, medianBlur\n",
    "from skimage import morphology\n",
    "from skimage.measure import regionprops\n",
    "import pyvista\n",
    "from scipy.linalg import orthogonal_procrustes\n",
    "import math"
   ]
  },
  {
   "cell_type": "code",
   "execution_count": 3,
   "id": "e9f4923a",
   "metadata": {},
   "outputs": [],
   "source": [
    "data = pd.read_excel('clean_data.xlsx')"
   ]
  },
  {
   "cell_type": "code",
   "execution_count": 8,
   "id": "f5fc423f",
   "metadata": {},
   "outputs": [
    {
     "name": "stdout",
     "output_type": "stream",
     "text": [
      "Index(['area_x', 'area_bbox_x', 'area_convex_x', 'area_filled_x',\n",
      "       'axis_major_length_x', 'axis_minor_length_x', 'bbox_x', 'centroid_x',\n",
      "       'coords_x', 'equivalent_diameter_area_x', 'euler_number_x', 'extent_x',\n",
      "       'inertia_tensor_x', 'solidity_x', 'label_x', 'transformed_coord',\n",
      "       'matched_high_centroid', 'matched_high_label',\n",
      "       'distance_transformed_high_res', 'area_y', 'area_bbox_y',\n",
      "       'area_convex_y', 'area_filled_y', 'axis_major_length_y',\n",
      "       'axis_minor_length_y', 'bbox_y', 'centroid_y', 'coords_y',\n",
      "       'equivalent_diameter_area_y', 'euler_number_y', 'extent_y',\n",
      "       'inertia_tensor_y', 'solidity_y', 'label_y', 'volume_low',\n",
      "       'volume_high'],\n",
      "      dtype='object')\n"
     ]
    }
   ],
   "source": [
    "print (data.columns)"
   ]
  },
  {
   "cell_type": "code",
   "execution_count": null,
   "id": "c4f1e99f",
   "metadata": {},
   "outputs": [],
   "source": []
  },
  {
   "cell_type": "code",
   "execution_count": null,
   "id": "ad54e144",
   "metadata": {},
   "outputs": [],
   "source": []
  },
  {
   "cell_type": "code",
   "execution_count": null,
   "id": "af9c7957",
   "metadata": {},
   "outputs": [],
   "source": []
  },
  {
   "cell_type": "code",
   "execution_count": null,
   "id": "f786538f",
   "metadata": {},
   "outputs": [],
   "source": []
  }
 ],
 "metadata": {
  "kernelspec": {
   "display_name": "Python 3 (ipykernel)",
   "language": "python",
   "name": "python3"
  },
  "language_info": {
   "codemirror_mode": {
    "name": "ipython",
    "version": 3
   },
   "file_extension": ".py",
   "mimetype": "text/x-python",
   "name": "python",
   "nbconvert_exporter": "python",
   "pygments_lexer": "ipython3",
   "version": "3.10.4"
  }
 },
 "nbformat": 4,
 "nbformat_minor": 5
}
