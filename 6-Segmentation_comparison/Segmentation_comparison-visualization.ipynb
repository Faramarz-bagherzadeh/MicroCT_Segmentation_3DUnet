{
 "cells": [
  {
   "cell_type": "code",
   "execution_count": 1,
   "id": "00b0cae9",
   "metadata": {},
   "outputs": [],
   "source": [
    "import cv2\n",
    "\n",
    "from skimage import morphology\n",
    "from skimage.measure import label, regionprops\n",
    "import numpy as np\n",
    "import matplotlib.pyplot as plt\n",
    "import tifffile\n",
    "import skimage\n",
    "import time\n",
    "import pyvista as pv"
   ]
  },
  {
   "cell_type": "code",
   "execution_count": 2,
   "id": "66462370",
   "metadata": {},
   "outputs": [],
   "source": [
    "def padd_to_proper(data):\n",
    "    padded_image = np.pad(data[:,:,:], ((2,2), (1,1), (1, 1)), mode='constant') \n",
    "    return padded_image"
   ]
  },
  {
   "cell_type": "code",
   "execution_count": 3,
   "id": "f5a866dc",
   "metadata": {},
   "outputs": [
    {
     "name": "stdout",
     "output_type": "stream",
     "text": [
      "data shape =  (125, 166, 103)\n",
      "target shape =  (125, 166, 103)\n",
      "Unet Pred shape =  (125, 166, 103)\n",
      "NGMMPred shape =  (125, 166, 103)\n",
      "RW_Pred shape =  (125, 166, 103)\n",
      "GrabCut_pred shape =  (125, 166, 103)\n"
     ]
    }
   ],
   "source": [
    "data_path ='data/registered/output/fixed_low_res_5.tif'\n",
    "data = tifffile.imread(data_path)\n",
    "target_path = 'data/registered/output/registered_mask_5.tif'\n",
    "target = tifffile.imread(target_path)\n",
    "\n",
    "UNET_pred_path = 'segmentation_outputs/3D_Unet_results.tif'\n",
    "UNET_pred = tifffile.imread(UNET_pred_path)\n",
    "\n",
    "NGMM_path = 'segmentation_outputs/NGMM.tif'\n",
    "NGMM_pred = tifffile.imread(NGMM_path)\n",
    "NGMM_pred = padd_to_proper(NGMM_pred)\n",
    "RW_path = 'segmentation_outputs/RW.tif'\n",
    "RW_pred = tifffile.imread(RW_path)\n",
    "\n",
    "GrabCut_path = 'segmentation_outputs/GrabCut.tif'\n",
    "GrabCut_pred = tifffile.imread(GrabCut_path)\n",
    "\n",
    "# cropping a volume to make sure all the colume contains the specimen\n",
    "data = data [1:-2,40:-50,0:-25]\n",
    "target = target[1:-2,40:-50,0:-25]\n",
    "UNET_pred =UNET_pred[1:-2,40:-50,0:-25]\n",
    "\n",
    "\n",
    "\n",
    "print ('data shape = ',data.shape)\n",
    "print ('target shape = ',target.shape)\n",
    "print ('Unet Pred shape = ', UNET_pred.shape)\n",
    "print ('NGMMPred shape = ', NGMM_pred.shape)\n",
    "print ('RW_Pred shape = ', RW_pred.shape)\n",
    "print ('GrabCut_pred shape = ', GrabCut_pred.shape)\n",
    "\n",
    "\n",
    "\n",
    "\n"
   ]
  },
  {
   "cell_type": "code",
   "execution_count": 4,
   "id": "e3ba05a3",
   "metadata": {},
   "outputs": [],
   "source": [
    "def get_coords (IMAGE):\n",
    "    points=[]\n",
    "    # Getting labels and regions\n",
    "    # ice is background so background intensity is 1\n",
    "    labelled= morphology.label(IMAGE, connectivity=2, background=1)\n",
    "    regions = regionprops(labelled)\n",
    "    sorted_regions = sorted(regions, key=lambda x: x.area)\n",
    "    #regions = sorted_regions[2:]\n",
    "    for r in regions:\n",
    "        points.append(r.coords)\n",
    "        \n",
    "    return points\n"
   ]
  },
  {
   "cell_type": "code",
   "execution_count": 7,
   "id": "f6d0af30",
   "metadata": {},
   "outputs": [
    {
     "name": "stdout",
     "output_type": "stream",
     "text": [
      "280 real objects\n",
      "112 pred objects\n"
     ]
    },
    {
     "name": "stderr",
     "output_type": "stream",
     "text": [
      "C:\\Users\\Fabagh001\\Anaconda3\\envs\\FARAMARZ\\lib\\site-packages\\pyvista\\utilities\\helpers.py:507: UserWarning: Points is not a float type. This can cause issues when transforming or applying filters. Casting to ``np.float32``. Disable this by passing ``force_float=False``.\n",
      "  warnings.warn(\n"
     ]
    },
    {
     "name": "stdout",
     "output_type": "stream",
     "text": [
      "plotting real is done\n",
      "plotting pred is done\n"
     ]
    }
   ],
   "source": [
    "def plot_3D (pred, real):   \n",
    "    \n",
    "    #getting coordinates of objects\n",
    "    real = get_coords(real)\n",
    "    print (len(real), 'real objects')\n",
    "    \n",
    "    pred = get_coords(pred)\n",
    "    print (len(pred), 'pred objects')\n",
    "\n",
    "    \n",
    "    # Create a plotter\n",
    "    plotter = pv.Plotter(off_screen = True,image_scale = 1)\n",
    "    \n",
    "    for p in real:\n",
    "        poly_data1 = pv.PolyData(p)\n",
    "        mesh1 = poly_data1.delaunay_3d(alpha=4)\n",
    "        plotter.add_mesh(mesh1, color='white', opacity=0.6)\n",
    "    \n",
    "    print ('plotting real is done')\n",
    "    \n",
    "    for j in pred[1:]:\n",
    "        poly_data2 = pv.PolyData(j)\n",
    "        mesh2 = poly_data2.delaunay_3d(alpha=4)\n",
    "        plotter.add_mesh(mesh2, color='blue', opacity=0.6)\n",
    "        \n",
    "    print ('plotting pred is done')\n",
    "    \n",
    "\n",
    "    #plotter.view_isometric()\n",
    "    #plotter.show_grid()\n",
    "    #plotter.show()\n",
    "    plotter.export_obj('NGMM_Pred.obj')\n",
    "    \n",
    "plot_3D(NGMM_pred[4:-4,4:-4,4:-4], target[4:-4,4:-4,4:-4])"
   ]
  },
  {
   "cell_type": "code",
   "execution_count": 11,
   "id": "4be88152",
   "metadata": {},
   "outputs": [
    {
     "name": "stdout",
     "output_type": "stream",
     "text": [
      "341 real objects\n",
      "108 pred objects\n",
      "plotting real is done\n",
      "plotting pred is done\n"
     ]
    }
   ],
   "source": [
    "def plot_3D (pred, real):   \n",
    "    \n",
    "    #getting coordinates of objects\n",
    "    real = get_coords(real)\n",
    "    print (len(real), 'real objects')\n",
    "    \n",
    "    pred = get_coords(pred)\n",
    "    print (len(pred), 'pred objects')\n",
    "\n",
    "    \n",
    "    # Create a plotter\n",
    "    plotter = pv.Plotter(off_screen = True,image_scale = 1)\n",
    "    \n",
    "    for p in real:\n",
    "        poly_data1 = pv.PolyData(p)\n",
    "        mesh1 = poly_data1.delaunay_3d(alpha=4)\n",
    "        plotter.add_mesh(mesh1, color='white', opacity=0.6)\n",
    "    \n",
    "    print ('plotting real is done')\n",
    "    \n",
    "    for j in pred[1:]:\n",
    "        poly_data2 = pv.PolyData(j)\n",
    "        mesh2 = poly_data2.delaunay_3d(alpha=4)\n",
    "        plotter.add_mesh(mesh2, color='blue', opacity=0.6)\n",
    "        \n",
    "    print ('plotting pred is done')\n",
    "    \n",
    "\n",
    "    #plotter.view_isometric()\n",
    "    #plotter.show_grid()\n",
    "    #plotter.show()\n",
    "    plotter.export_obj('RW_Pred.obj')\n",
    "    \n",
    "plot_3D(RW_pred, target)"
   ]
  },
  {
   "cell_type": "code",
   "execution_count": 8,
   "id": "32d89b84",
   "metadata": {},
   "outputs": [
    {
     "name": "stdout",
     "output_type": "stream",
     "text": [
      "341 real objects\n",
      "113 pred objects\n",
      "plotting real is done\n",
      "plotting pred is done\n"
     ]
    }
   ],
   "source": [
    "def plot_3D (pred, real):   \n",
    "    \n",
    "    #getting coordinates of objects\n",
    "    real = get_coords(real)\n",
    "    print (len(real), 'real objects')\n",
    "    \n",
    "    pred = get_coords(pred)\n",
    "    print (len(pred), 'pred objects')\n",
    "\n",
    "    \n",
    "    # Create a plotter\n",
    "    plotter = pv.Plotter(off_screen = True,image_scale = 1)\n",
    "    \n",
    "    for p in real:\n",
    "        poly_data1 = pv.PolyData(p)\n",
    "        mesh1 = poly_data1.delaunay_3d(alpha=4)\n",
    "        plotter.add_mesh(mesh1, color='white', opacity=0.6)\n",
    "    \n",
    "    print ('plotting real is done')\n",
    "    \n",
    "    for j in pred[1:]:\n",
    "        poly_data2 = pv.PolyData(j)\n",
    "        mesh2 = poly_data2.delaunay_3d(alpha=4)\n",
    "        plotter.add_mesh(mesh2, color='blue', opacity=0.6)\n",
    "        \n",
    "    print ('plotting pred is done')\n",
    "    \n",
    "\n",
    "    #plotter.view_isometric()\n",
    "    #plotter.show_grid()\n",
    "    #plotter.show()\n",
    "    plotter.export_obj('GrabCut_pred.obj')\n",
    "    \n",
    "plot_3D(GrabCut_pred, target)"
   ]
  },
  {
   "cell_type": "code",
   "execution_count": 24,
   "id": "146183b6",
   "metadata": {},
   "outputs": [
    {
     "name": "stdout",
     "output_type": "stream",
     "text": [
      "341 real objects\n",
      "133 pred_train objects\n",
      "56 pred_test objects\n",
      "plotting real is done\n",
      "plotting pred is done\n"
     ]
    }
   ],
   "source": [
    "def plot_3D (pred, real):   \n",
    "    \n",
    "    #getting coordinates of objects\n",
    "    real = get_coords(real)\n",
    "    print (len(real), 'real objects')\n",
    "    \n",
    "    train = pred.copy()\n",
    "    train[:31] = 1\n",
    "    pred_train = get_coords(train)\n",
    "    print (len(pred_train), 'pred_train objects')\n",
    "\n",
    "    pred_test = get_coords(pred[:30])\n",
    "    print (len(pred_test), 'pred_test objects')\n",
    "\n",
    "    \n",
    "    # Create a plotter\n",
    "    plotter = pv.Plotter(off_screen = True,image_scale = 1)\n",
    "    \n",
    "    for p in real:\n",
    "        poly_data1 = pv.PolyData(p)\n",
    "        mesh1 = poly_data1.delaunay_3d(alpha=4)\n",
    "        plotter.add_mesh(mesh1, color='white', opacity=0.6)\n",
    "    \n",
    "    print ('plotting real is done')\n",
    "    \n",
    "    for j in pred_train[:]:\n",
    "        poly_data2 = pv.PolyData(j)\n",
    "        mesh2 = poly_data2.delaunay_3d(alpha=4)\n",
    "        plotter.add_mesh(mesh2, color='blue', opacity=0.6)\n",
    "    \n",
    "    for j in pred_test[:]:\n",
    "        poly_data2 = pv.PolyData(j)\n",
    "        mesh2 = poly_data2.delaunay_3d(alpha=4)\n",
    "        plotter.add_mesh(mesh2, color='red', opacity=0.6)\n",
    "        \n",
    "    print ('plotting pred is done')\n",
    "    \n",
    "\n",
    "    #plotter.view_isometric()\n",
    "    #plotter.show_grid()\n",
    "    #plotter.show()\n",
    "    plotter.export_obj('New_UNET_Pred.obj')\n",
    "    \n",
    "plot_3D(UNET_pred, target)"
   ]
  },
  {
   "cell_type": "code",
   "execution_count": null,
   "id": "efedc9a7",
   "metadata": {},
   "outputs": [],
   "source": []
  },
  {
   "cell_type": "code",
   "execution_count": null,
   "id": "f5d57a6d",
   "metadata": {},
   "outputs": [],
   "source": []
  },
  {
   "cell_type": "code",
   "execution_count": null,
   "id": "582b16d5",
   "metadata": {},
   "outputs": [],
   "source": []
  },
  {
   "cell_type": "code",
   "execution_count": null,
   "id": "d0fee7d7",
   "metadata": {},
   "outputs": [],
   "source": []
  },
  {
   "cell_type": "code",
   "execution_count": null,
   "id": "c953bc46",
   "metadata": {},
   "outputs": [],
   "source": []
  },
  {
   "cell_type": "code",
   "execution_count": null,
   "id": "a5a30e84",
   "metadata": {},
   "outputs": [],
   "source": []
  }
 ],
 "metadata": {
  "kernelspec": {
   "display_name": "Python 3 (ipykernel)",
   "language": "python",
   "name": "python3"
  },
  "language_info": {
   "codemirror_mode": {
    "name": "ipython",
    "version": 3
   },
   "file_extension": ".py",
   "mimetype": "text/x-python",
   "name": "python",
   "nbconvert_exporter": "python",
   "pygments_lexer": "ipython3",
   "version": "3.10.4"
  }
 },
 "nbformat": 4,
 "nbformat_minor": 5
}
